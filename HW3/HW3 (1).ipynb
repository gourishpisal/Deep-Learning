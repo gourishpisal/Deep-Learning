{
  "cells": [
    {
      "cell_type": "code",
      "execution_count": 1,
      "id": "fead65c8-5843-4165-9ad5-3b2d48657294",
      "metadata": {
        "id": "fead65c8-5843-4165-9ad5-3b2d48657294"
      },
      "outputs": [],
      "source": [
        "import requests\n",
        "import json\n",
        "import torch\n",
        "import os\n",
        "from tqdm import tqdm"
      ]
    },
    {
      "cell_type": "code",
      "execution_count": 2,
      "id": "f482ce0d-cbac-4913-b6ee-b3b8b9a22432",
      "metadata": {
        "colab": {
          "base_uri": "https://localhost:8080/"
        },
        "id": "f482ce0d-cbac-4913-b6ee-b3b8b9a22432",
        "outputId": "6e89149f-c416-4f74-e317-a83c7bfbae71"
      },
      "outputs": [
        {
          "output_type": "stream",
          "name": "stdout",
          "text": [
            "Looking in indexes: https://pypi.org/simple, https://us-python.pkg.dev/colab-wheels/public/simple/\n",
            "Collecting transformers\n",
            "  Downloading transformers-4.27.4-py3-none-any.whl (6.8 MB)\n",
            "\u001b[2K     \u001b[90m━━━━━━━━━━━━━━━━━━━━━━━━━━━━━━━━━━━━━━━━\u001b[0m \u001b[32m6.8/6.8 MB\u001b[0m \u001b[31m45.6 MB/s\u001b[0m eta \u001b[36m0:00:00\u001b[0m\n",
            "\u001b[?25hRequirement already satisfied: pyyaml>=5.1 in /usr/local/lib/python3.9/dist-packages (from transformers) (6.0)\n",
            "Requirement already satisfied: regex!=2019.12.17 in /usr/local/lib/python3.9/dist-packages (from transformers) (2022.10.31)\n",
            "Requirement already satisfied: tqdm>=4.27 in /usr/local/lib/python3.9/dist-packages (from transformers) (4.65.0)\n",
            "Collecting huggingface-hub<1.0,>=0.11.0\n",
            "  Downloading huggingface_hub-0.13.3-py3-none-any.whl (199 kB)\n",
            "\u001b[2K     \u001b[90m━━━━━━━━━━━━━━━━━━━━━━━━━━━━━━━━━━━━━━\u001b[0m \u001b[32m199.8/199.8 KB\u001b[0m \u001b[31m12.6 MB/s\u001b[0m eta \u001b[36m0:00:00\u001b[0m\n",
            "\u001b[?25hRequirement already satisfied: packaging>=20.0 in /usr/local/lib/python3.9/dist-packages (from transformers) (23.0)\n",
            "Collecting tokenizers!=0.11.3,<0.14,>=0.11.1\n",
            "  Downloading tokenizers-0.13.2-cp39-cp39-manylinux_2_17_x86_64.manylinux2014_x86_64.whl (7.6 MB)\n",
            "\u001b[2K     \u001b[90m━━━━━━━━━━━━━━━━━━━━━━━━━━━━━━━━━━━━━━━━\u001b[0m \u001b[32m7.6/7.6 MB\u001b[0m \u001b[31m65.7 MB/s\u001b[0m eta \u001b[36m0:00:00\u001b[0m\n",
            "\u001b[?25hRequirement already satisfied: filelock in /usr/local/lib/python3.9/dist-packages (from transformers) (3.10.7)\n",
            "Requirement already satisfied: numpy>=1.17 in /usr/local/lib/python3.9/dist-packages (from transformers) (1.22.4)\n",
            "Requirement already satisfied: requests in /usr/local/lib/python3.9/dist-packages (from transformers) (2.27.1)\n",
            "Requirement already satisfied: typing-extensions>=3.7.4.3 in /usr/local/lib/python3.9/dist-packages (from huggingface-hub<1.0,>=0.11.0->transformers) (4.5.0)\n",
            "Requirement already satisfied: certifi>=2017.4.17 in /usr/local/lib/python3.9/dist-packages (from requests->transformers) (2022.12.7)\n",
            "Requirement already satisfied: urllib3<1.27,>=1.21.1 in /usr/local/lib/python3.9/dist-packages (from requests->transformers) (1.26.15)\n",
            "Requirement already satisfied: idna<4,>=2.5 in /usr/local/lib/python3.9/dist-packages (from requests->transformers) (3.4)\n",
            "Requirement already satisfied: charset-normalizer~=2.0.0 in /usr/local/lib/python3.9/dist-packages (from requests->transformers) (2.0.12)\n",
            "Installing collected packages: tokenizers, huggingface-hub, transformers\n",
            "Successfully installed huggingface-hub-0.13.3 tokenizers-0.13.2 transformers-4.27.4\n"
          ]
        }
      ],
      "source": [
        "!pip install transformers\n"
      ]
    },
    {
      "cell_type": "code",
      "execution_count": 4,
      "id": "87e5590e-028e-481c-be65-37131050345b",
      "metadata": {
        "id": "87e5590e-028e-481c-be65-37131050345b"
      },
      "outputs": [],
      "source": [
        "with open('spoken_train-v1.1.json', 'rb') as f:\n",
        "  squad = json.load(f)"
      ]
    },
    {
      "cell_type": "code",
      "execution_count": 5,
      "id": "2145edb0-8d15-4dbd-830a-d949ef1609a2",
      "metadata": {
        "colab": {
          "base_uri": "https://localhost:8080/"
        },
        "id": "2145edb0-8d15-4dbd-830a-d949ef1609a2",
        "outputId": "24bf4121-5515-400a-ccab-a85885cd1898"
      },
      "outputs": [
        {
          "output_type": "execute_result",
          "data": {
            "text/plain": [
              "dict_keys(['title', 'paragraphs'])"
            ]
          },
          "metadata": {},
          "execution_count": 5
        }
      ],
      "source": [
        "squad['data'][0].keys()\n"
      ]
    },
    {
      "cell_type": "code",
      "execution_count": 6,
      "id": "8e7fd851-e4e5-445a-9a5f-1675d51ea533",
      "metadata": {
        "colab": {
          "base_uri": "https://localhost:8080/"
        },
        "id": "8e7fd851-e4e5-445a-9a5f-1675d51ea533",
        "outputId": "3e0791a3-f30a-4cc1-b997-72a59a1085ff"
      },
      "outputs": [
        {
          "output_type": "stream",
          "name": "stdout",
          "text": [
            "University_of_Notre_Dame\n",
            "Beyoncé\n",
            "Montana\n",
            "Genocide\n",
            "Antibiotics\n",
            "Frédéric_Chopin\n",
            "Sino-Tibetan_relations_during_the_Ming_dynasty\n",
            "IPod\n",
            "The_Legend_of_Zelda:_Twilight_Princess\n",
            "Spectre_(2015_film)\n",
            "2008_Sichuan_earthquake\n",
            "New_York_City\n",
            "To_Kill_a_Mockingbird\n",
            "Solar_energy\n",
            "Tajikistan\n",
            "Anthropology\n",
            "Portugal\n",
            "Kanye_West\n",
            "Buddhism\n",
            "American_Idol\n",
            "Dog\n",
            "2008_Summer_Olympics_torch_relay\n",
            "Alfred_North_Whitehead\n",
            "Financial_crisis_of_2007%E2%80%9308\n",
            "Saint_Barth%C3%A9lemy\n",
            "Genome\n",
            "Comprehensive_school\n",
            "Republic_of_the_Congo\n",
            "Prime_minister\n",
            "Institute_of_technology\n",
            "Wayback_Machine\n",
            "Dutch_Republic\n",
            "Symbiosis\n",
            "Canadian_Armed_Forces\n",
            "Cardinal_(Catholicism)\n",
            "Iranian_languages\n",
            "Lighting\n",
            "Separation_of_powers_under_the_United_States_Constitution\n",
            "Architecture\n",
            "Human_Development_Index\n",
            "Southern_Europe\n",
            "BBC_Television\n",
            "Arnold_Schwarzenegger\n",
            "Plymouth\n",
            "Heresy\n",
            "Warsaw_Pact\n",
            "Materialism\n",
            "Space_Race\n",
            "Pub\n",
            "Christian\n",
            "Sony_Music_Entertainment\n",
            "Oklahoma_City\n",
            "Hunter-gatherer\n",
            "United_Nations_Population_Fund\n",
            "Russian_Soviet_Federative_Socialist_Republic\n",
            "Universal_Studios\n",
            "Alexander_Graham_Bell\n",
            "Internet_service_provider\n",
            "Comics\n",
            "Saint_Helena\n",
            "Aspirated_consonant\n",
            "Hydrogen\n",
            "Web_browser\n",
            "Boston\n",
            "BeiDou_Navigation_Satellite_System\n",
            "Canon_law\n",
            "Communications_in_Somalia\n",
            "Catalan_language\n",
            "Estonian_language\n",
            "Paper\n",
            "Arena_Football_League\n",
            "Adult_contemporary_music\n",
            "Matter\n",
            "Westminster_Abbey\n",
            "Nanjing\n",
            "Bern\n",
            "Daylight_saving_time\n",
            "Royal_Institute_of_British_Architects\n",
            "National_Archives_and_Records_Administration\n",
            "Tristan_da_Cunha\n",
            "University_of_Kansas\n",
            "Political_corruption\n",
            "Dialect\n",
            "Classical_music\n",
            "Slavs\n",
            "Southampton\n",
            "Treaty\n",
            "Josip_Broz_Tito\n",
            "Marshall_Islands\n",
            "Szlachta\n",
            "Virgil\n",
            "Alps\n",
            "Gene\n",
            "Guinea-Bissau\n",
            "List_of_numbered_streets_in_Manhattan\n",
            "Brain\n",
            "Near_East\n",
            "Zhejiang\n",
            "Ministry_of_Defence_(United_Kingdom)\n",
            "High-definition_television\n",
            "Wood\n",
            "Somalis\n",
            "Middle_Ages\n",
            "Phonology\n",
            "Computer\n",
            "Black_people\n",
            "The_Times\n",
            "New_Delhi\n",
            "Imamah_(Shia_doctrine)\n",
            "Bird_migration\n",
            "Atlantic_City,_New_Jersey\n",
            "Immunology\n",
            "MP3\n",
            "House_music\n",
            "Letter_case\n",
            "Chihuahua_(state)\n",
            "Pitch_(music)\n",
            "England_national_football_team\n",
            "Houston\n",
            "Copper\n",
            "Identity_(social_science)\n",
            "Himachal_Pradesh\n",
            "Communication\n",
            "Grape\n",
            "Computer_security\n",
            "Orthodox_Judaism\n",
            "Animal\n",
            "Beer\n",
            "Race_and_ethnicity_in_the_United_States_Census\n",
            "United_States_dollar\n",
            "Imperial_College_London\n",
            "Gymnastics\n",
            "Hanover\n",
            "Emotion\n",
            "FC_Barcelona\n",
            "Everton_F.C.\n",
            "Old_English\n",
            "Aircraft_carrier\n",
            "Federal_Aviation_Administration\n",
            "Lancashire\n",
            "Mesozoic\n",
            "Videoconferencing\n",
            "Gregorian_calendar\n",
            "Xbox_360\n",
            "Military_history_of_the_United_States\n",
            "Hard_rock\n",
            "Great_Plains\n",
            "Infrared\n",
            "Biodiversity\n",
            "ASCII\n",
            "Digestion\n",
            "Federal_Bureau_of_Investigation\n",
            "Adolescence\n",
            "Antarctica\n",
            "Mary_(mother_of_Jesus)\n",
            "Melbourne\n",
            "John,_King_of_England\n",
            "Macintosh\n",
            "Anti-aircraft_warfare\n",
            "Sanskrit\n",
            "Valencia\n",
            "General_Electric\n",
            "United_States_Army\n",
            "Franco-Prussian_War\n",
            "Eritrea\n",
            "Uranium\n",
            "Order_of_the_British_Empire\n",
            "Age_of_Enlightenment\n",
            "Circadian_rhythm\n",
            "Elizabeth_II\n",
            "Sexual_orientation\n",
            "Dell\n",
            "Capital_punishment_in_the_United_States\n",
            "Nintendo_Entertainment_System\n",
            "Ashkenazi_Jews\n",
            "Athanasius_of_Alexandria\n",
            "Seattle\n",
            "Memory\n",
            "Multiracial_American\n",
            "Pharmaceutical_industry\n",
            "Umayyad_Caliphate\n",
            "Asphalt\n",
            "Queen_Victoria\n",
            "Freemasonry\n",
            "Israel\n",
            "Hellenistic_period\n",
            "Napoleon\n",
            "Bill_%26_Melinda_Gates_Foundation\n",
            "Northwestern_University\n",
            "Hokkien\n",
            "Montevideo\n",
            "Poultry\n",
            "Arsenal_F.C.\n",
            "Dutch_language\n",
            "Buckingham_Palace\n",
            "Incandescent_light_bulb\n",
            "Clothing\n",
            "Chicago_Cubs\n",
            "States_of_Germany\n",
            "Korean_War\n",
            "Royal_Dutch_Shell\n",
            "Copyright_infringement\n",
            "Greece\n",
            "202\n"
          ]
        }
      ],
      "source": [
        "gr = -1\n",
        "for idx, group in enumerate(squad['data']):\n",
        "  print(group['title'])\n",
        "  if group['title'] == 'Greece':\n",
        "    gr = idx\n",
        "    print(gr)\n",
        "    break"
      ]
    },
    {
      "cell_type": "code",
      "execution_count": 7,
      "id": "ed040d85-6189-4f1a-afa1-564b613ecd8e",
      "metadata": {
        "colab": {
          "base_uri": "https://localhost:8080/",
          "height": 71
        },
        "id": "ed040d85-6189-4f1a-afa1-564b613ecd8e",
        "outputId": "b46d9d1b-6c31-4559-b185-4132f6c4dc81"
      },
      "outputs": [
        {
          "output_type": "execute_result",
          "data": {
            "text/plain": [
              "'napoleon bonaparte nato mean l l j e n french nap led the napa tea or nepali on deep wanna parte the fifteenth of august seventeen sixty nine to the fifth of may eighteen twenty one was a french military and political leader who rose to prominence during the french revolution and led several successful campaigns during the revolutionary war sir. as napoleon i he was emperor of the french from eighty know for intel eighteen fourteen and again in eighteen fifteen. napoleon dominated european in global affairs for more than a decade while leaving france against a series of coalitions in the napoleonic wars. he won most of these wars and the vast majority of his battles building a large empire that ruled over continental europe before its final collapse in eighteen fifteen. often considered one of the greatest commanders in history his wars in campaigns are studied at military schools worldwide. he also remains one of the most celebrated and controversial political figures in western history. in civil affairs napoleon had a major longterm impact by bringing liberal reforms to the territories that he conquered especially the low countries switzerland and large parts of modern italy and germany. he implemented fundamental liberal policies in france and throughout western europe no wine his lasting legal achievement the napoleonic code has been adopted in various forms by a quarter of the worlds legal systems from japan to put back.'"
            ],
            "application/vnd.google.colaboratory.intrinsic+json": {
              "type": "string"
            }
          },
          "metadata": {},
          "execution_count": 7
        }
      ],
      "source": [
        "squad['data'][186]['paragraphs'][0]['context']\n"
      ]
    },
    {
      "cell_type": "code",
      "execution_count": 8,
      "id": "8d3e9100-9113-42c7-95e2-de86ea87c6b8",
      "metadata": {
        "id": "8d3e9100-9113-42c7-95e2-de86ea87c6b8"
      },
      "outputs": [],
      "source": [
        "def read_data(path):  \n",
        "  # load the json file\n",
        "  with open(path, 'rb') as f:\n",
        "    squad = json.load(f)\n",
        "\n",
        "  contexts = []\n",
        "  questions = []\n",
        "  answers = []\n",
        "\n",
        "  for group in squad['data']:\n",
        "    for passage in group['paragraphs']:\n",
        "      context = passage['context']\n",
        "      for qa in passage['qas']:\n",
        "        question = qa['question']\n",
        "        for answer in qa['answers']:\n",
        "          contexts.append(context)\n",
        "          questions.append(question)\n",
        "          answers.append(answer)\n",
        "\n",
        "  return contexts, questions, answers"
      ]
    },
    {
      "cell_type": "code",
      "execution_count": null,
      "id": "abc09950-c09b-4497-9462-b21583653590",
      "metadata": {
        "id": "abc09950-c09b-4497-9462-b21583653590"
      },
      "outputs": [],
      "source": [
        "# train_contexts, train_questions, train_answers = read_data('train_data.json')\n",
        "# valid_contexts, valid_questions, valid_answers = read_data('val_data.json')"
      ]
    },
    {
      "cell_type": "code",
      "execution_count": 9,
      "id": "c2f03380-6528-4449-93fb-e0bc27871318",
      "metadata": {
        "id": "c2f03380-6528-4449-93fb-e0bc27871318"
      },
      "outputs": [],
      "source": [
        "train_contexts, train_questions, train_answers = read_data('spoken_train-v1.1.json')\n",
        "valid_contexts, valid_questions, valid_answers = read_data('spoken_test-v1.1.json')\n",
        "     \n"
      ]
    },
    {
      "cell_type": "code",
      "execution_count": 10,
      "id": "8725681c-e7b1-4a45-b0f6-9f3327f96bd8",
      "metadata": {
        "colab": {
          "base_uri": "https://localhost:8080/"
        },
        "id": "8725681c-e7b1-4a45-b0f6-9f3327f96bd8",
        "outputId": "a164fca1-eb25-4fc4-ed65-3376499787cc"
      },
      "outputs": [
        {
          "output_type": "stream",
          "name": "stdout",
          "text": [
            "There are 37111 questions\n",
            "What country borders south Estonia?\n",
            "{'answer_start': 262, 'text': 'latvia'}\n"
          ]
        }
      ],
      "source": [
        "print(f'There are {len(train_questions)} questions')\n",
        "print(train_questions[-10000])\n",
        "print(train_answers[-10000])\n",
        "     "
      ]
    },
    {
      "cell_type": "code",
      "execution_count": 11,
      "id": "abeba359-9954-4c9b-9ba0-168ff861f7e5",
      "metadata": {
        "id": "abeba359-9954-4c9b-9ba0-168ff861f7e5"
      },
      "outputs": [],
      "source": [
        "def add_end_idx(answers, contexts):\n",
        "  for answer, context in zip(answers, contexts):\n",
        "    gold_text = answer['text']\n",
        "    start_idx = answer['answer_start']\n",
        "    end_idx = start_idx + len(gold_text)\n",
        "\n",
        "    if context[start_idx:end_idx] == gold_text:\n",
        "      answer['answer_end'] = end_idx\n",
        "    elif context[start_idx-1:end_idx-1] == gold_text:\n",
        "      answer['answer_start'] = start_idx - 1\n",
        "      answer['answer_end'] = end_idx - 1     \n",
        "    elif context[start_idx-2:end_idx-2] == gold_text:\n",
        "      answer['answer_start'] = start_idx - 2\n",
        "      answer['answer_end'] = end_idx - 2    \n",
        "\n",
        "add_end_idx(train_answers, train_contexts)\n",
        "add_end_idx(valid_answers, valid_contexts)"
      ]
    },
    {
      "cell_type": "code",
      "execution_count": 12,
      "id": "49898629-fa89-4040-916c-3ca2bac9ae34",
      "metadata": {
        "colab": {
          "base_uri": "https://localhost:8080/"
        },
        "id": "49898629-fa89-4040-916c-3ca2bac9ae34",
        "outputId": "e1458c0a-c03e-414b-e780-0ad30b97b1f0"
      },
      "outputs": [
        {
          "output_type": "stream",
          "name": "stdout",
          "text": [
            "What country borders south Estonia?\n",
            "{'answer_start': 262, 'text': 'latvia', 'answer_end': 268}\n"
          ]
        }
      ],
      "source": [
        "print(train_questions[-10000])\n",
        "print(train_answers[-10000])"
      ]
    },
    {
      "cell_type": "code",
      "execution_count": 13,
      "id": "a8650dab-dd72-42a4-ab51-13d2322669ed",
      "metadata": {
        "colab": {
          "base_uri": "https://localhost:8080/",
          "height": 145,
          "referenced_widgets": [
            "22259a0812f1487e924b23dd7cbbba9a",
            "fecbcaeeb5774bf4b71c73f3e9f5a752",
            "e93047cf60e64785a545e830cf681d78",
            "6bd33644e3554efda1860bd8a8c462b9",
            "1522b0f60e5044969d49fd0b06f1eacb",
            "12f832279d7747ab808a78f33b17a2ee",
            "a107d60ec75f4a4193e3188d7a63b808",
            "02ea283a9e5a487ab9acbe1ca2035ee9",
            "a405c326f0664b62941bd0de50a9c76e",
            "f5eff6bdd91044368ad3513634453813",
            "78c49425090a4519ab0492e415e386ff",
            "279208cdc0324957b828c297faf3c6ae",
            "e1bbd0c6eca340d7bf86386179fd0691",
            "4e79647fc9de4f97b935b1d31dd4fbde",
            "c09928e1925648cca0e6025ddb7b72c7",
            "ec8dfaa6668c41af83cabe2d0d65f6aa",
            "2d13f349c9c0436393f1d304b035a5f3",
            "bed242eb3ec748f6860696a9d4b616dd",
            "6dba76fa10184d2ea9b64f438a2b81ca",
            "355dd585edff4f12a7d9f2b439f4f4e8",
            "90afea447066431889efe48ba2674ea8",
            "7ed13abda89d44b7be701b1799bf43f4",
            "f151e6584fdc49d2aced7af374f5bb9b",
            "ced8236850854fd686e8b2b178b6325c",
            "33425d4cf1834ad3a062e2704246d778",
            "e1007934caeb4315bb4a7ad7f4e7fb12",
            "4200bb2b5b944e55abd70672d424d051",
            "ed90cac5a4584c6e802106c62f25b898",
            "7e5dcb8a63d14b3082df985339494922",
            "1bda586bf04941aa8aa87530b9e0abb9",
            "fd3f87f7347a40219e9c9b319ec734cf",
            "9bf17ea30194433cb8e7677b855a73e7",
            "c23d7263f15a41e4831b94cffb7d4b88",
            "a239a781c76f4fc49fcf77277ec60400",
            "21da8250659d47de9067e9d6dfe08bed",
            "8dc9c63c8ff949a6abf1c847e8ad78e1",
            "ca414a8a5d114962be1d32a8d1d858bc",
            "4c8c19ed86114e609aec405647017b16",
            "c3c327562afa4e14a2b708241e597d11",
            "5b908db571a34e668f67950bf6179a47",
            "e8dda2edb40240b6a8cc3d87c00ed93a",
            "219f6fc8436f40298fe97a64aa37b01b",
            "157816b7d23c469583bd178062e33ac3",
            "1ddc4c9772474c83ba310a79f371f0c0"
          ]
        },
        "id": "a8650dab-dd72-42a4-ab51-13d2322669ed",
        "outputId": "89c0fe05-2edc-402d-c424-536d2e2e2dad"
      },
      "outputs": [
        {
          "output_type": "display_data",
          "data": {
            "text/plain": [
              "Downloading (…)okenizer_config.json:   0%|          | 0.00/28.0 [00:00<?, ?B/s]"
            ],
            "application/vnd.jupyter.widget-view+json": {
              "version_major": 2,
              "version_minor": 0,
              "model_id": "22259a0812f1487e924b23dd7cbbba9a"
            }
          },
          "metadata": {}
        },
        {
          "output_type": "display_data",
          "data": {
            "text/plain": [
              "Downloading (…)solve/main/vocab.txt:   0%|          | 0.00/232k [00:00<?, ?B/s]"
            ],
            "application/vnd.jupyter.widget-view+json": {
              "version_major": 2,
              "version_minor": 0,
              "model_id": "279208cdc0324957b828c297faf3c6ae"
            }
          },
          "metadata": {}
        },
        {
          "output_type": "display_data",
          "data": {
            "text/plain": [
              "Downloading (…)/main/tokenizer.json:   0%|          | 0.00/466k [00:00<?, ?B/s]"
            ],
            "application/vnd.jupyter.widget-view+json": {
              "version_major": 2,
              "version_minor": 0,
              "model_id": "f151e6584fdc49d2aced7af374f5bb9b"
            }
          },
          "metadata": {}
        },
        {
          "output_type": "display_data",
          "data": {
            "text/plain": [
              "Downloading (…)lve/main/config.json:   0%|          | 0.00/570 [00:00<?, ?B/s]"
            ],
            "application/vnd.jupyter.widget-view+json": {
              "version_major": 2,
              "version_minor": 0,
              "model_id": "a239a781c76f4fc49fcf77277ec60400"
            }
          },
          "metadata": {}
        }
      ],
      "source": [
        "from transformers import BertTokenizerFast\n",
        "\n",
        "tokenizer = BertTokenizerFast.from_pretrained('bert-base-uncased')\n",
        "\n",
        "doc_stride = 128  \n",
        "\n",
        "train_encodings = tokenizer(\n",
        "    train_contexts,\n",
        "    train_questions,\n",
        "    truncation=True,\n",
        "    padding=True,\n",
        "    max_length=512,\n",
        "    stride=doc_stride\n",
        ")\n",
        "\n",
        "valid_encodings = tokenizer(\n",
        "    valid_contexts,\n",
        "    valid_questions,\n",
        "    truncation=True,\n",
        "    padding=True,\n",
        "    max_length=512,\n",
        "    stride=doc_stride\n",
        ")"
      ]
    },
    {
      "cell_type": "code",
      "execution_count": 14,
      "id": "df8b5451-f286-4b76-af29-e4b01cf7a341",
      "metadata": {
        "colab": {
          "base_uri": "https://localhost:8080/"
        },
        "id": "df8b5451-f286-4b76-af29-e4b01cf7a341",
        "outputId": "1f8a5b32-0923-480d-88ac-27e77b4ad31a"
      },
      "outputs": [
        {
          "output_type": "execute_result",
          "data": {
            "text/plain": [
              "dict_keys(['input_ids', 'token_type_ids', 'attention_mask'])"
            ]
          },
          "metadata": {},
          "execution_count": 14
        }
      ],
      "source": [
        "train_encodings.keys()\n"
      ]
    },
    {
      "cell_type": "code",
      "execution_count": 15,
      "id": "c7ad6796-735c-485c-bf5e-d0483dc5558e",
      "metadata": {
        "colab": {
          "base_uri": "https://localhost:8080/"
        },
        "id": "c7ad6796-735c-485c-bf5e-d0483dc5558e",
        "outputId": "f44aad62-f3dd-4aeb-972a-fed1728a9d79"
      },
      "outputs": [
        {
          "output_type": "stream",
          "name": "stdout",
          "text": [
            "We have 37111 context-question pairs\n"
          ]
        }
      ],
      "source": [
        "no_of_encodings = len(train_encodings['input_ids'])\n",
        "print(f'We have {no_of_encodings} context-question pairs')\n",
        "     "
      ]
    },
    {
      "cell_type": "code",
      "execution_count": 15,
      "id": "c04eae36-9795-4dcd-9969-40d1406e5ad8",
      "metadata": {
        "id": "c04eae36-9795-4dcd-9969-40d1406e5ad8"
      },
      "outputs": [],
      "source": [
        "\n"
      ]
    },
    {
      "cell_type": "code",
      "execution_count": 16,
      "id": "d2ce7e6b-4913-4262-9211-6bc49fbedc37",
      "metadata": {
        "colab": {
          "base_uri": "https://localhost:8080/",
          "height": 71
        },
        "id": "d2ce7e6b-4913-4262-9211-6bc49fbedc37",
        "outputId": "707cfbbc-aab7-4758-a4ba-ed5eca1437ee"
      },
      "outputs": [
        {
          "output_type": "execute_result",
          "data": {
            "text/plain": [
              "'[CLS] architecturally the school has a catholic character. atop the main building school dome is the golden statue of the virgin mary. immediately in front of the main building in facing it is a copper statue of christ with arms appraised with the legend and the bad meow names. next to the main building is the basilica of the sacred heart. immediately behind the basilica is the grotto im mary in place of prayer and reflection. it is a replica of the grotto at lourdes france where the virgin mary reputedly appeared to st bernadette still burning eighteen fifty eight. at the end of the main drive and in a direct line that connects through three statues in the gold dome is as simple modern stone statue of mary. [SEP] what is in front of the notre dame main building? [SEP] [PAD] [PAD] [PAD] [PAD] [PAD] [PAD] [PAD] [PAD] [PAD] [PAD] [PAD] [PAD] [PAD] [PAD] [PAD] [PAD] [PAD] [PAD] [PAD] [PAD] [PAD] [PAD] [PAD] [PAD] [PAD] [PAD] [PAD] [PAD] [PAD] [PAD] [PAD] [PAD] [PAD] [PAD] [PAD] [PAD] [PAD] [PAD] [PAD] [PAD] [PAD] [PAD] [PAD] [PAD] [PAD] [PAD] [PAD] [PAD] [PAD] [PAD] [PAD] [PAD] [PAD] [PAD] [PAD] [PAD] [PAD] [PAD] [PAD] [PAD] [PAD] [PAD] [PAD] [PAD] [PAD] [PAD] [PAD] [PAD] [PAD] [PAD] [PAD] [PAD] [PAD] [PAD] [PAD] [PAD] [PAD] [PAD] [PAD] [PAD] [PAD] [PAD] [PAD] [PAD] [PAD] [PAD] [PAD] [PAD] [PAD] [PAD] [PAD] [PAD] [PAD] [PAD] [PAD] [PAD] [PAD] [PAD] [PAD] [PAD] [PAD] [PAD] [PAD] [PAD] [PAD] [PAD] [PAD] [PAD] [PAD] [PAD] [PAD] [PAD] [PAD] [PAD] [PAD] [PAD] [PAD] [PAD] [PAD] [PAD] [PAD] [PAD] [PAD] [PAD] [PAD] [PAD] [PAD] [PAD] [PAD] [PAD] [PAD] [PAD] [PAD] [PAD] [PAD] [PAD] [PAD] [PAD] [PAD] [PAD] [PAD] [PAD] [PAD] [PAD] [PAD] [PAD] [PAD] [PAD] [PAD] [PAD] [PAD] [PAD] [PAD] [PAD] [PAD] [PAD] [PAD] [PAD] [PAD] [PAD] [PAD] [PAD] [PAD] [PAD] [PAD] [PAD] [PAD] [PAD] [PAD] [PAD] [PAD] [PAD] [PAD] [PAD] [PAD] [PAD] [PAD] [PAD] [PAD] [PAD] [PAD] [PAD] [PAD] [PAD] [PAD] [PAD] [PAD] [PAD] [PAD] [PAD] [PAD] [PAD] [PAD] [PAD] [PAD] [PAD] [PAD] [PAD] [PAD] [PAD] [PAD] [PAD] [PAD] [PAD] [PAD] [PAD] [PAD] [PAD] [PAD] [PAD] [PAD] [PAD] [PAD] [PAD] [PAD] [PAD] [PAD] [PAD] [PAD] [PAD] [PAD] [PAD] [PAD] [PAD] [PAD] [PAD] [PAD] [PAD] [PAD] [PAD] [PAD] [PAD] [PAD] [PAD] [PAD] [PAD] [PAD] [PAD] [PAD] [PAD] [PAD] [PAD] [PAD] [PAD] [PAD] [PAD] [PAD] [PAD] [PAD] [PAD] [PAD] [PAD] [PAD] [PAD] [PAD] [PAD] [PAD] [PAD] [PAD] [PAD] [PAD] [PAD] [PAD] [PAD] [PAD] [PAD] [PAD] [PAD] [PAD] [PAD] [PAD] [PAD] [PAD] [PAD] [PAD] [PAD] [PAD] [PAD] [PAD] [PAD] [PAD] [PAD] [PAD] [PAD] [PAD] [PAD] [PAD] [PAD] [PAD] [PAD] [PAD] [PAD] [PAD] [PAD] [PAD] [PAD] [PAD] [PAD] [PAD] [PAD] [PAD] [PAD] [PAD] [PAD] [PAD] [PAD] [PAD] [PAD] [PAD] [PAD] [PAD] [PAD] [PAD] [PAD] [PAD] [PAD] [PAD] [PAD] [PAD] [PAD] [PAD] [PAD] [PAD] [PAD] [PAD] [PAD] [PAD] [PAD] [PAD] [PAD] [PAD] [PAD] [PAD] [PAD] [PAD] [PAD] [PAD] [PAD] [PAD] [PAD] [PAD] [PAD] [PAD] [PAD] [PAD] [PAD] [PAD] [PAD] [PAD] [PAD] [PAD] [PAD] [PAD]'"
            ],
            "application/vnd.google.colaboratory.intrinsic+json": {
              "type": "string"
            }
          },
          "metadata": {},
          "execution_count": 16
        }
      ],
      "source": [
        "tokenizer.decode(train_encodings['input_ids'][0])\n"
      ]
    },
    {
      "cell_type": "code",
      "execution_count": 17,
      "id": "2f92f122-c80f-49e8-975b-32a9968fb6e0",
      "metadata": {
        "id": "2f92f122-c80f-49e8-975b-32a9968fb6e0"
      },
      "outputs": [],
      "source": [
        "def add_token_positions(encodings, answers):\n",
        "    start_positions = []\n",
        "    end_positions = []\n",
        "    for i, answer in enumerate(answers):\n",
        "        start_pos = max(0, answer['answer_start'])\n",
        "        end_pos = max(0, answer['answer_end'] - 1)\n",
        "        start_positions.append(encodings.char_to_token(i, start_pos))\n",
        "        end_positions.append(encodings.char_to_token(i, end_pos))\n",
        "\n",
        "        # if start position is None, the answer passage has been truncated\n",
        "        if start_positions[-1] is None:\n",
        "            start_positions[-1] = tokenizer.model_max_length\n",
        "        if end_positions[-1] is None:\n",
        "            end_positions[-1] = tokenizer.model_max_length\n",
        "\n",
        "    encodings.update({'start_positions': start_positions, 'end_positions': end_positions})\n",
        "\n",
        "add_token_positions(train_encodings, train_answers)\n",
        "add_token_positions(valid_encodings, valid_answers)\n"
      ]
    },
    {
      "cell_type": "code",
      "execution_count": 18,
      "id": "9e536eb2-809b-4966-a0a9-e02737a061dd",
      "metadata": {
        "colab": {
          "base_uri": "https://localhost:8080/"
        },
        "id": "9e536eb2-809b-4966-a0a9-e02737a061dd",
        "outputId": "f5d63f9b-8608-47a6-85e0-859b7d3b17af"
      },
      "outputs": [
        {
          "output_type": "execute_result",
          "data": {
            "text/plain": [
              "[36, 11, 55, 107, 25, 21, 43, 67, 28, 22]"
            ]
          },
          "metadata": {},
          "execution_count": 18
        }
      ],
      "source": [
        "train_encodings['start_positions'][:10]\n"
      ]
    },
    {
      "cell_type": "code",
      "execution_count": 19,
      "id": "633cdbd3-7fe2-4dea-b085-885a867a9f7c",
      "metadata": {
        "id": "633cdbd3-7fe2-4dea-b085-885a867a9f7c"
      },
      "outputs": [],
      "source": [
        "class SQuAD_Dataset(torch.utils.data.Dataset):\n",
        "  def __init__(self, encodings):\n",
        "    self.encodings = encodings\n",
        "  def __getitem__(self, idx):\n",
        "    return {key: torch.tensor(val[idx]) for key, val in self.encodings.items()}\n",
        "  def __len__(self):\n",
        "    return len(self.encodings.input_ids)\n",
        "     "
      ]
    },
    {
      "cell_type": "code",
      "execution_count": 20,
      "id": "5de72dec-a79f-460b-8fbe-03a9bcd444b0",
      "metadata": {
        "id": "5de72dec-a79f-460b-8fbe-03a9bcd444b0"
      },
      "outputs": [],
      "source": [
        "\n",
        "train_dataset = SQuAD_Dataset(train_encodings)\n",
        "valid_dataset = SQuAD_Dataset(valid_encodings)\n",
        "     "
      ]
    },
    {
      "cell_type": "code",
      "execution_count": 21,
      "id": "b5e80800-ae76-4cad-957f-d50039bbc2b5",
      "metadata": {
        "id": "b5e80800-ae76-4cad-957f-d50039bbc2b5"
      },
      "outputs": [],
      "source": [
        "from torch.utils.data import DataLoader\n",
        "\n",
        "# Define the dataloaders\n",
        "train_loader = DataLoader(train_dataset, batch_size=16, shuffle=True)\n",
        "valid_loader = DataLoader(valid_dataset, batch_size=16)"
      ]
    },
    {
      "cell_type": "code",
      "execution_count": 22,
      "id": "a3090a47-7cc8-48c2-870f-897bba6575d1",
      "metadata": {
        "colab": {
          "base_uri": "https://localhost:8080/",
          "height": 156,
          "referenced_widgets": [
            "975381a03e1640fba97d949973f9c403",
            "909cb055945a4255850dee8dd457006e",
            "c1f10262e6bd4036908b6667d2e8f903",
            "5d7f62ff67fe4ee5a19da245152b2cd3",
            "2f75dc0adedd409eb27ae4de8b250458",
            "722ad8bc5c774f33a7a3ff4bbd80656e",
            "dc6516281c684e80812e19400c6814e8",
            "c4350568c5b6488c8a4b1993d0dd54d1",
            "3b1e6049f4b24a52b43046f892b52f85",
            "fe378a73e36f41e28ea150eee493c628",
            "346970e6345c4829967c24a396a57681"
          ]
        },
        "id": "a3090a47-7cc8-48c2-870f-897bba6575d1",
        "outputId": "f9a78854-5df9-44f0-bccb-67b7a9220241"
      },
      "outputs": [
        {
          "output_type": "display_data",
          "data": {
            "text/plain": [
              "Downloading pytorch_model.bin:   0%|          | 0.00/440M [00:00<?, ?B/s]"
            ],
            "application/vnd.jupyter.widget-view+json": {
              "version_major": 2,
              "version_minor": 0,
              "model_id": "975381a03e1640fba97d949973f9c403"
            }
          },
          "metadata": {}
        },
        {
          "output_type": "stream",
          "name": "stderr",
          "text": [
            "Some weights of the model checkpoint at bert-base-uncased were not used when initializing BertForQuestionAnswering: ['cls.predictions.decoder.weight', 'cls.predictions.transform.dense.bias', 'cls.predictions.transform.LayerNorm.bias', 'cls.seq_relationship.bias', 'cls.predictions.bias', 'cls.seq_relationship.weight', 'cls.predictions.transform.LayerNorm.weight', 'cls.predictions.transform.dense.weight']\n",
            "- This IS expected if you are initializing BertForQuestionAnswering from the checkpoint of a model trained on another task or with another architecture (e.g. initializing a BertForSequenceClassification model from a BertForPreTraining model).\n",
            "- This IS NOT expected if you are initializing BertForQuestionAnswering from the checkpoint of a model that you expect to be exactly identical (initializing a BertForSequenceClassification model from a BertForSequenceClassification model).\n",
            "Some weights of BertForQuestionAnswering were not initialized from the model checkpoint at bert-base-uncased and are newly initialized: ['qa_outputs.bias', 'qa_outputs.weight']\n",
            "You should probably TRAIN this model on a down-stream task to be able to use it for predictions and inference.\n"
          ]
        }
      ],
      "source": [
        "from transformers import BertForQuestionAnswering\n",
        "\n",
        "model = BertForQuestionAnswering.from_pretrained(\"bert-base-uncased\")"
      ]
    },
    {
      "cell_type": "code",
      "execution_count": 23,
      "id": "35637e68-a6f9-48bc-a176-769947ca5a06",
      "metadata": {
        "colab": {
          "base_uri": "https://localhost:8080/"
        },
        "id": "35637e68-a6f9-48bc-a176-769947ca5a06",
        "outputId": "57d0400b-e632-4a30-c6f9-26690e77cdbc"
      },
      "outputs": [
        {
          "output_type": "stream",
          "name": "stdout",
          "text": [
            "Working on cuda\n"
          ]
        }
      ],
      "source": [
        "\n",
        "# Check on the available device - use GPU\n",
        "device = torch.device('cuda') if torch.cuda.is_available() else torch.device('cpu')\n",
        "print(f'Working on {device}')\n",
        "     "
      ]
    },
    {
      "cell_type": "code",
      "execution_count": 26,
      "id": "0594d2dd-f17e-404c-a0a1-2664924f1284",
      "metadata": {
        "colab": {
          "base_uri": "https://localhost:8080/"
        },
        "id": "0594d2dd-f17e-404c-a0a1-2664924f1284",
        "outputId": "a8ae0d56-be18-4efb-a7fa-6b5899d08ff0"
      },
      "outputs": [
        {
          "output_type": "stream",
          "name": "stderr",
          "text": [
            "Epoch 1: 100%|██████████| 2320/2320 [1:01:25<00:00,  1.59s/it, loss=0.795]\n"
          ]
        }
      ],
      "source": [
        "from transformers import AdamW, get_linear_schedule_with_warmup\n",
        "\n",
        "N_EPOCHS = 1\n",
        "MAX_LR = 5e-5\n",
        "WARMUP_STEPS = 100\n",
        "TOTAL_STEPS = len(train_loader) * N_EPOCHS\n",
        "GRADIENT_ACCUMULATION_STEPS = 8\n",
        "\n",
        "optim = AdamW(model.parameters(), lr=MAX_LR)\n",
        "\n",
        "scheduler = get_linear_schedule_with_warmup(\n",
        "    optim, num_warmup_steps=WARMUP_STEPS, num_training_steps=TOTAL_STEPS\n",
        ")\n",
        "\n",
        "model.to(device)\n",
        "model.train()\n",
        "i=0\n",
        "for epoch in range(N_EPOCHS):\n",
        "    loop = tqdm(train_loader, leave=True)\n",
        "    for batch in loop:\n",
        "        input_ids = batch['input_ids'].to(device)\n",
        "        attention_mask = batch['attention_mask'].to(device)\n",
        "        start_positions = batch['start_positions'].to(device)\n",
        "        end_positions = batch['end_positions'].to(device)\n",
        "\n",
        "        outputs = model(input_ids, attention_mask=attention_mask, start_positions=start_positions, end_positions=end_positions)\n",
        "        loss = outputs[0]\n",
        "\n",
        "        loss = loss / GRADIENT_ACCUMULATION_STEPS\n",
        "        loss.backward()\n",
        "\n",
        "        if (i + 1) % GRADIENT_ACCUMULATION_STEPS == 0:\n",
        "            torch.nn.utils.clip_grad_norm_(model.parameters(), 1.0)\n",
        "            optim.step()\n",
        "            scheduler.step()\n",
        "            optim.zero_grad()\n",
        "\n",
        "        loop.set_description(f'Epoch {epoch+1}')\n",
        "        loop.set_postfix(loss=loss.item())\n"
      ]
    },
    {
      "cell_type": "code",
      "execution_count": null,
      "id": "7819d97f-505f-421d-bdb5-8ff3ed0ab16d",
      "metadata": {
        "id": "7819d97f-505f-421d-bdb5-8ff3ed0ab16d"
      },
      "outputs": [],
      "source": []
    },
    {
      "cell_type": "code",
      "execution_count": 28,
      "id": "12b8466b-3a6e-4073-bc4b-e2295d225c3f",
      "metadata": {
        "colab": {
          "base_uri": "https://localhost:8080/"
        },
        "id": "12b8466b-3a6e-4073-bc4b-e2295d225c3f",
        "outputId": "37fd9574-a28f-4af8-d4ac-31903c7b0f01"
      },
      "outputs": [
        {
          "output_type": "stream",
          "name": "stdout",
          "text": [
            "Looking in indexes: https://pypi.org/simple, https://us-python.pkg.dev/colab-wheels/public/simple/\n",
            "Collecting jiwer\n",
            "  Downloading jiwer-3.0.1-py3-none-any.whl (21 kB)\n",
            "Collecting rapidfuzz==2.13.7\n",
            "  Downloading rapidfuzz-2.13.7-cp39-cp39-manylinux_2_17_x86_64.manylinux2014_x86_64.whl (2.2 MB)\n",
            "\u001b[2K     \u001b[90m━━━━━━━━━━━━━━━━━━━━━━━━━━━━━━━━━━━━━━━━\u001b[0m \u001b[32m2.2/2.2 MB\u001b[0m \u001b[31m39.5 MB/s\u001b[0m eta \u001b[36m0:00:00\u001b[0m\n",
            "\u001b[?25hRequirement already satisfied: click<9.0.0,>=8.1.3 in /usr/local/lib/python3.9/dist-packages (from jiwer) (8.1.3)\n",
            "Installing collected packages: rapidfuzz, jiwer\n",
            "Successfully installed jiwer-3.0.1 rapidfuzz-2.13.7\n"
          ]
        }
      ],
      "source": [
        "!pip install jiwer\n",
        "     "
      ]
    },
    {
      "cell_type": "code",
      "execution_count": 29,
      "id": "c2bdc34b-d30c-4b05-8b21-d4e4faeb57ed",
      "metadata": {
        "id": "c2bdc34b-d30c-4b05-8b21-d4e4faeb57ed"
      },
      "outputs": [],
      "source": []
    },
    {
      "cell_type": "code",
      "source": [],
      "metadata": {
        "id": "mpwIpi1Z6b3F"
      },
      "id": "mpwIpi1Z6b3F",
      "execution_count": null,
      "outputs": []
    },
    {
      "cell_type": "code",
      "execution_count": null,
      "id": "4e5bbf1c-e190-43c2-95a1-aacfda09b3ab",
      "metadata": {
        "id": "4e5bbf1c-e190-43c2-95a1-aacfda09b3ab"
      },
      "outputs": [],
      "source": []
    },
    {
      "cell_type": "code",
      "execution_count": 30,
      "id": "a6e6daa1-77e7-44b1-a1a0-1bd1eba85ba2",
      "metadata": {
        "id": "a6e6daa1-77e7-44b1-a1a0-1bd1eba85ba2"
      },
      "outputs": [],
      "source": [
        "def get_prediction(context, question):\n",
        "  inputs = tokenizer.encode_plus(question, context, return_tensors='pt').to(device)\n",
        "  outputs = model(**inputs)\n",
        "  \n",
        "  answer_start = torch.argmax(outputs[0])  \n",
        "  answer_end = torch.argmax(outputs[1]) + 1 \n",
        "  \n",
        "  answer = tokenizer.convert_tokens_to_string(tokenizer.convert_ids_to_tokens(inputs['input_ids'][0][answer_start:answer_end]))\n",
        "  \n",
        "  return answer\n",
        "\n",
        "def normalize_text(s):\n",
        "  \"\"\"Removing articles and punctuation, and standardizing whitespace are all typical text processing steps.\"\"\"\n",
        "  import string, re\n",
        "  def remove_articles(text):\n",
        "    regex = re.compile(r\"\\b(a|an|the)\\b\", re.UNICODE)\n",
        "    return re.sub(regex, \" \", text)\n",
        "  def white_space_fix(text):\n",
        "    return \" \".join(text.split())\n",
        "  def remove_punc(text):\n",
        "    exclude = set(string.punctuation)\n",
        "    return \"\".join(ch for ch in text if ch not in exclude)\n",
        "  def lower(text):\n",
        "    return text.lower()\n",
        "\n",
        "  return white_space_fix(remove_articles(remove_punc(lower(s))))\n",
        "\n",
        "def exact_match(prediction, truth):\n",
        "    return bool(normalize_text(prediction) == normalize_text(truth))\n",
        "\n",
        "def compute_f1(prediction, truth):\n",
        "  pred_tokens = normalize_text(prediction).split()\n",
        "  truth_tokens = normalize_text(truth).split()\n",
        "  \n",
        "  # if either the prediction or the truth is no-answer then f1 = 1 if they agree, 0 otherwise\n",
        "  if len(pred_tokens) == 0 or len(truth_tokens) == 0:\n",
        "    return int(pred_tokens == truth_tokens)\n",
        "  \n",
        "  common_tokens = set(pred_tokens) & set(truth_tokens)\n",
        "  \n",
        "  # if there are no common tokens then f1 = 0\n",
        "  if len(common_tokens) == 0:\n",
        "    return 0\n",
        "  \n",
        "  prec = len(common_tokens) / len(pred_tokens)\n",
        "  rec = len(common_tokens) / len(truth_tokens)\n",
        "  \n",
        "  return round(2 * (prec * rec) / (prec + rec), 2)\n",
        "  \n",
        "def question_answer(context, question,answer):\n",
        "  prediction = get_prediction(context,question)\n",
        "  em_score = exact_match(prediction, answer)\n",
        "  f1_score = compute_f1(prediction, answer)\n",
        "\n",
        "  print(f'Question: {question}')\n",
        "  print(f'Prediction: {prediction}')\n",
        "  print(f'True Answer: {answer}')\n",
        "  print(f'Exact match: {em_score}')\n",
        "  print(f'F1 score: {f1_score}\\n')"
      ]
    },
    {
      "cell_type": "code",
      "source": [
        "import jiwer\n",
        "\n",
        "model.eval()\n",
        "acc = []\n",
        "wer = []\n",
        "f1_scores=[]\n",
        "\n",
        "for batch in tqdm(valid_loader):\n",
        "    with torch.no_grad():\n",
        "        input_ids = batch['input_ids'].to(device)\n",
        "        attention_mask = batch['attention_mask'].to(device)\n",
        "        start_true = batch['start_positions'].to(device)\n",
        "        end_true = batch['end_positions'].to(device)\n",
        "        \n",
        "        outputs = model(input_ids, attention_mask=attention_mask)\n",
        "        \n",
        "        start_pred = torch.argmax(outputs['start_logits'], dim=1)\n",
        "        end_pred = torch.argmax(outputs['end_logits'], dim=1)\n",
        "        \n",
        "        # Calculate accuracy\n",
        "        acc.append(((start_pred == start_true).sum() / len(start_pred)).item())\n",
        "        acc.append(((end_pred == end_true).sum() / len(end_pred)).item())\n",
        "        \n",
        "        # Calculate WER\n",
        "        for i in range(len(start_true)):\n",
        "            true_text = tokenizer.decode(input_ids[i][start_true[i]:end_true[i]])\n",
        "            pred_text = tokenizer.decode(input_ids[i][start_pred[i]:end_pred[i]])\n",
        "            if true_text.strip() == \"\":\n",
        "                continue\n",
        "            wer.append(jiwer.wer(true_text, pred_text))\n",
        "            f1_scores.append(compute_f1(true_text, pred_text))\n",
        "acc = sum(acc) / len(acc)\n",
        "wer = sum(wer) / len(wer)\n",
        "\n",
        "print(f'Accuracy: {acc:.4f}')\n",
        "print(f'WER: {wer:.4f}')\n",
        "\n",
        "print(\"\\n\\nT/P\\tanswer_start\\tanswer_end\\n\")\n",
        "for i in range(len(start_true)):\n",
        "    print(f\"true\\t{start_true[i]}\\t{end_true[i]}\\n\"\n",
        "          f\"pred\\t{start_pred[i]}\\t{end_pred[i]}\")"
      ],
      "metadata": {
        "colab": {
          "base_uri": "https://localhost:8080/"
        },
        "id": "TKz1jrSFBT1T",
        "outputId": "4a9f44aa-c752-4948-c56d-b784cafceda0"
      },
      "id": "TKz1jrSFBT1T",
      "execution_count": 31,
      "outputs": [
        {
          "output_type": "stream",
          "name": "stderr",
          "text": [
            "100%|██████████| 993/993 [09:40<00:00,  1.71it/s]"
          ]
        },
        {
          "output_type": "stream",
          "name": "stdout",
          "text": [
            "Accuracy: 0.0076\n",
            "WER: 19.8983\n",
            "\n",
            "\n",
            "T/P\tanswer_start\tanswer_end\n",
            "\n",
            "true\t59\t59\n",
            "pred\t64\t55\n",
            "true\t59\t60\n",
            "pred\t64\t55\n",
            "true\t59\t59\n",
            "pred\t64\t55\n"
          ]
        },
        {
          "output_type": "stream",
          "name": "stderr",
          "text": [
            "\n"
          ]
        }
      ]
    },
    {
      "cell_type": "code",
      "source": [
        "import numpy as np\n",
        "overall_f1_score = np.mean(f1_scores)\n",
        "print(overall_f1_score)"
      ],
      "metadata": {
        "colab": {
          "base_uri": "https://localhost:8080/"
        },
        "id": "o1qSyhoYCVdB",
        "outputId": "6cf95e43-28b4-4be2-db30-e0ec4db4273f"
      },
      "id": "o1qSyhoYCVdB",
      "execution_count": 33,
      "outputs": [
        {
          "output_type": "stream",
          "name": "stdout",
          "text": [
            "0.03714780390012757\n"
          ]
        }
      ]
    },
    {
      "cell_type": "code",
      "execution_count": 34,
      "id": "3f061395-e71b-4d7b-a319-1602a00abc32",
      "metadata": {
        "id": "3f061395-e71b-4d7b-a319-1602a00abc32"
      },
      "outputs": [],
      "source": [
        "def get_prediction(text, question):\n",
        "  inputs = tokenizer.encode_plus(question, text, return_tensors='pt',max_length=512, truncation=True).to(device)\n",
        "\n",
        "  outputs = model(**inputs)\n",
        "  answer_start = torch.argmax(outputs[0])\n",
        "  answer_end = torch.argmax(outputs[1]) + 1 \n",
        "\n",
        "  answer = tokenizer.convert_tokens_to_string(tokenizer.convert_ids_to_tokens(inputs['input_ids'][0][answer_start:answer_end]))\n",
        "  return answer\n",
        "\n",
        "\n",
        "def prediction(contents,model):\n",
        "  predAnswers={}\n",
        "  for data in contents['data']:\n",
        "    for txt in data['paragraphs']: \n",
        "      text = txt['context']\n",
        "      for qa in txt['qas']:\n",
        "        qid = qa['id']\n",
        "        question = qa['question']\n",
        "        predAnswers[qid]=get_prediction(text,question)\n",
        "  return predAnswers\n",
        "\n",
        "with open(\"spoken_test-v1.1_WER44.json\", 'r') as j:\n",
        "     valContents = json.loads(j.read())\n",
        "     predAnswers=prediction(valContents,model)\n",
        "\n",
        "with open('results.txt', 'w') as convert_file:\n",
        "     convert_file.write(json.dumps(predAnswers))"
      ]
    },
    {
      "cell_type": "code",
      "source": [],
      "metadata": {
        "id": "-9z-1DfxBZRn"
      },
      "id": "-9z-1DfxBZRn",
      "execution_count": 34,
      "outputs": []
    },
    {
      "cell_type": "code",
      "execution_count": 35,
      "id": "b554b069-b820-4089-a8eb-aeaa1276c91b",
      "metadata": {
        "id": "b554b069-b820-4089-a8eb-aeaa1276c91b"
      },
      "outputs": [],
      "source": [
        "def compute_wer(ground_truth, predicted):\n",
        "    \"\"\"\n",
        "    Compute Word Error Rate (WER) between ground truth and predicted text.\n",
        "    \"\"\"\n",
        "    # Convert both ground truth and predicted text to lists of words\n",
        "    ground_truth_words = ground_truth.split()\n",
        "    predicted_words = predicted.split()\n",
        "\n",
        "    # Create a matrix of size (len(ground_truth_words) + 1) x (len(predicted_words) + 1)\n",
        "    # and initialize the first row and column to 0, 1, 2, ..., len(predicted_words)\n",
        "    matrix = [[j for j in range(len(predicted_words) + 1)]]\n",
        "    matrix += [[i] + [0] * len(predicted_words) for i in range(1, len(ground_truth_words) + 1)]\n",
        "\n",
        "    # Fill in the rest of the matrix\n",
        "    for i in range(1, len(ground_truth_words) + 1):\n",
        "        for j in range(1, len(predicted_words) + 1):\n",
        "            if ground_truth_words[i - 1] == predicted_words[j - 1]:\n",
        "                matrix[i][j] = matrix[i - 1][j - 1]\n",
        "            else:\n",
        "                substitution = matrix[i - 1][j - 1] + 1\n",
        "                insertion = matrix[i][j - 1] + 1\n",
        "                deletion = matrix[i - 1][j] + 1\n",
        "                matrix[i][j] = min(substitution, insertion, deletion)\n",
        "\n",
        "    # Return the WER, which is the bottom-right element of the matrix divided by the length of the ground truth\n",
        "    return matrix[-1][-1] / len(ground_truth_words)\n"
      ]
    },
    {
      "cell_type": "code",
      "execution_count": null,
      "id": "b90d1fd0-64f4-4d75-a919-810bf246b161",
      "metadata": {
        "id": "b90d1fd0-64f4-4d75-a919-810bf246b161"
      },
      "outputs": [],
      "source": []
    },
    {
      "cell_type": "code",
      "execution_count": 36,
      "id": "521d0892-88df-4c13-b4a4-81e4b056acc2",
      "metadata": {
        "colab": {
          "base_uri": "https://localhost:8080/"
        },
        "id": "521d0892-88df-4c13-b4a4-81e4b056acc2",
        "outputId": "a5d1ff4d-9573-40e0-faa0-a168c700635f"
      },
      "outputs": [
        {
          "output_type": "stream",
          "name": "stdout",
          "text": [
            "Cumulative WER: 23.005290791308266\n"
          ]
        }
      ],
      "source": [
        "with open(\"spoken_test-v1.1_WER44.json\", 'r') as j:\n",
        "    valContents = json.loads(j.read())\n",
        "    predAnswers = prediction(valContents, model)\n",
        "\n",
        "totalWER = 0\n",
        "numQuestions = 0\n",
        "\n",
        "for qid, predAnswer in predAnswers.items():\n",
        "    for data in valContents['data']:\n",
        "        for txt in data['paragraphs']:\n",
        "            for qa in txt['qas']:\n",
        "                if qa['id'] == qid:\n",
        "                    groundTruth = qa['answers'][0]['text']\n",
        "                    wer = compute_wer(groundTruth, predAnswer)\n",
        "                    totalWER += wer\n",
        "                    numQuestions += 1\n",
        "                    break\n",
        "            else:\n",
        "                continue\n",
        "            break\n",
        "        else:\n",
        "            continue\n",
        "        break\n",
        "\n",
        "cumulativeWER = totalWER / numQuestions\n",
        "print(f\"Cumulative WER: {cumulativeWER}\")\n"
      ]
    },
    {
      "cell_type": "code",
      "execution_count": 37,
      "id": "efb51b76-7b0e-4ea2-b8b8-d26e71613280",
      "metadata": {
        "colab": {
          "base_uri": "https://localhost:8080/"
        },
        "id": "efb51b76-7b0e-4ea2-b8b8-d26e71613280",
        "outputId": "c783d7aa-22cb-4a30-d57f-c82f76c93149"
      },
      "outputs": [
        {
          "output_type": "stream",
          "name": "stdout",
          "text": [
            "Cumulative WER: 24.920225818046\n"
          ]
        }
      ],
      "source": [
        "with open(\"spoken_test-v1.1_WER54.json\", 'r') as j:\n",
        "    valContents = json.loads(j.read())\n",
        "    predAnswers = prediction(valContents, model)\n",
        "\n",
        "totalWER = 0\n",
        "numQuestions = 0\n",
        "\n",
        "for qid, predAnswer in predAnswers.items():\n",
        "    for data in valContents['data']:\n",
        "        for txt in data['paragraphs']:\n",
        "            for qa in txt['qas']:\n",
        "                if qa['id'] == qid:\n",
        "                    groundTruth = qa['answers'][0]['text']\n",
        "                    wer = compute_wer(groundTruth, predAnswer)\n",
        "                    totalWER += wer\n",
        "                    numQuestions += 1\n",
        "                    break\n",
        "            else:\n",
        "                continue\n",
        "            break\n",
        "        else:\n",
        "            continue\n",
        "        break\n",
        "\n",
        "cumulativeWER = totalWER / numQuestions\n",
        "print(f\"Cumulative WER: {cumulativeWER}\")\n"
      ]
    },
    {
      "cell_type": "code",
      "execution_count": 38,
      "id": "08ed74f4-9602-42ed-bc91-f44bad1e8206",
      "metadata": {
        "colab": {
          "base_uri": "https://localhost:8080/"
        },
        "id": "08ed74f4-9602-42ed-bc91-f44bad1e8206",
        "outputId": "34e81385-df65-4b60-c811-951ba5d080d5"
      },
      "outputs": [
        {
          "output_type": "stream",
          "name": "stdout",
          "text": [
            "Question: For whom the passage is talking about?\n",
            "Prediction: ##ɪ / bee - yon - say ) ( born september 4, 1981 ) is an american singer, songwriter, record producer and actress. born and raised in houston\n",
            "True Answer: Beyonce Giselle Knowles - Carter\n",
            "Exact match: False\n",
            "F1 score: 0\n",
            "\n",
            "Question: When did Beyonce born?\n",
            "Prediction: ##ɪ / bee - yon - say ) ( born september 4, 1981 ) is an american singer, songwriter, record producer and actress. born and raised in houston\n",
            "True Answer: September 4, 1981\n",
            "Exact match: False\n",
            "F1 score: 0.25\n",
            "\n",
            "Question: Where did Beyonce born?\n",
            "Prediction: ##ɪ / bee - yon - say ) ( born september 4, 1981 ) is an american singer, songwriter, record producer and actress. born and raised in houston\n",
            "True Answer: Houston, Texas\n",
            "Exact match: False\n",
            "F1 score: 0.09\n",
            "\n",
            "Question: What is Beyonce's nationality?\n",
            "Prediction: ##ɪ / bee - yon - say ) ( born september 4, 1981 ) is an american singer, songwriter, record producer and actress. born and raised in houston\n",
            "True Answer: American\n",
            "Exact match: False\n",
            "F1 score: 0.09\n",
            "\n",
            "Question: Who was the Destiny's group manager?\n",
            "Prediction: ##ɪ / bee - yon - say ) ( born september 4, 1981 ) is an american singer, songwriter, record producer and actress. born and raised in houston\n",
            "True Answer: Mathew Knowles\n",
            "Exact match: False\n",
            "F1 score: 0\n",
            "\n",
            "Question: What name has the Beyoncé's debut album?\n",
            "Prediction: ##ɪ / bee - yon - say ) ( born september 4, 1981 ) is an american singer, songwriter, record producer and actress. born and raised in houston\n",
            "True Answer: Dangerously in Love\n",
            "Exact match: False\n",
            "F1 score: 0.08\n",
            "\n",
            "Question: How many Grammy Awards did Beyonce earn?\n",
            "Prediction: ##ɪ / bee - yon - say ) ( born september 4, 1981 ) is an american singer, songwriter, record producer and actress. born and raised in houston\n",
            "True Answer: five\n",
            "Exact match: False\n",
            "F1 score: 0\n",
            "\n",
            "Question: When did the Beyoncé's debut album release?\n",
            "Prediction: ##ɪ / bee - yon - say ) ( born september 4, 1981 ) is an american singer, songwriter, record producer and actress. born and raised in houston\n",
            "True Answer: 2003\n",
            "Exact match: False\n",
            "F1 score: 0\n",
            "\n",
            "Question: Who was the lead singer of R&B girl-group Destiny's Child?\n",
            "Prediction: ##ɪ / bee - yon - say ) ( born september 4, 1981 ) is an american singer, songwriter, record producer and actress. born and raised in houston\n",
            "True Answer: Beyonce Giselle Knowles - Carter\n",
            "Exact match: False\n",
            "F1 score: 0\n",
            "\n"
          ]
        }
      ],
      "source": [
        "context = \"\"\"Beyoncé Giselle Knowles-Carter (/biːˈjɒnseɪ/ bee-YON-say) (born September 4, 1981) is an American singer, \n",
        "          songwriter, record producer and actress. Born and raised in Houston, Texas, she performed in various singing \n",
        "          and dancing competitions as a child, and rose to fame in the late 1990s as lead singer of R&B girl-group Destiny\\'s Child. \n",
        "          Managed by her father, Mathew Knowles, the group became one of the world\\'s best-selling girl groups of all time. \n",
        "          Their hiatus saw the release of Beyoncé\\'s debut album, Dangerously in Love (2003), which established her as a solo artist worldwide, \n",
        "          earned five Grammy Awards and featured the Billboard Hot 100 number-one singles \"Crazy in Love\" and \"Baby Boy\".\"\"\"\n",
        "\n",
        "\n",
        "questions = [\"For whom the passage is talking about?\",\n",
        "             \"When did Beyonce born?\",\n",
        "             \"Where did Beyonce born?\",\n",
        "             \"What is Beyonce's nationality?\",\n",
        "             \"Who was the Destiny's group manager?\",\n",
        "             \"What name has the Beyoncé's debut album?\",\n",
        "             \"How many Grammy Awards did Beyonce earn?\",\n",
        "             \"When did the Beyoncé's debut album release?\",\n",
        "             \"Who was the lead singer of R&B girl-group Destiny's Child?\"]\n",
        "\n",
        "answers = [\"Beyonce Giselle Knowles - Carter\", \"September 4, 1981\", \"Houston, Texas\", \n",
        "           \"American\", \"Mathew Knowles\", \"Dangerously in Love\", \"five\", \"2003\", \n",
        "           \"Beyonce Giselle Knowles - Carter\"]\n",
        "\n",
        "for question, answer in zip(questions, answers):\n",
        "  question_answer(context, question, answer)"
      ]
    },
    {
      "cell_type": "code",
      "execution_count": null,
      "id": "9611fcf3-e15c-4a2b-953a-8af1d4c6529e",
      "metadata": {
        "id": "9611fcf3-e15c-4a2b-953a-8af1d4c6529e",
        "outputId": "22d3361e-32a7-489c-e0b3-57b79c548471"
      },
      "outputs": [
        {
          "name": "stdout",
          "output_type": "stream",
          "text": [
            "Question: Which is the largest city in Greece?\n",
            "Prediction: piraeus\n",
            "True Answer: Athens\n",
            "Exact match: False\n",
            "F1 score: 0\n",
            "\n",
            "Question: For what was the Athens center?\n",
            "Prediction: greece\n",
            "True Answer: center for the arts, learning and philosophy\n",
            "Exact match: False\n",
            "F1 score: 0\n",
            "\n",
            "Question: Which city was the home of Plato's Academy?\n",
            "Prediction: athens is the capital and largest city of greece. athens dominates the attica region and is one of the world ' s oldest cities, with its recorded history spanning over 3, 400 years and its earliest human presence starting somewhere between the 11th and 7th millennium bc. classical athens was a powerful city - state. it was a center for the arts, learning and philosophy, and the home of plato ' s academy and aristotle ' s lyceum. it is widely referred to as the cradle of western civilization and the birthplace of democracy, largely because of its cultural and political impact on the european continent — particularly ancient rome. in modern times, athens is a large cosmopolitan metropolis and central to economic, financial, industrial, maritime, political and cultural life in greece. in 2021, athens ' urban area hosted more than three and a half million people, which is around 35 % of the entire population of greece. athens is a beta global city according to the globalization and world cities research network, and is one of the biggest economic centers in southeastern europe. it also has a large financial sector, and its port piraeus\n",
            "True Answer: Athens\n",
            "Exact match: False\n",
            "F1 score: 0.01\n",
            "\n"
          ]
        }
      ],
      "source": [
        "context = \"\"\"Athens is the capital and largest city of Greece. Athens dominates the Attica region and is one of the world's oldest cities, \n",
        "             with its recorded history spanning over 3,400 years and its earliest human presence starting somewhere between the 11th and 7th millennium BC.\n",
        "             Classical Athens was a powerful city-state. It was a center for the arts, learning and philosophy, and the home of Plato's Academy and Aristotle's Lyceum.\n",
        "             It is widely referred to as the cradle of Western civilization and the birthplace of democracy, largely because of its cultural and political impact on the European continent—particularly Ancient Rome.\n",
        "             In modern times, Athens is a large cosmopolitan metropolis and central to economic, financial, industrial, maritime, political and cultural life in Greece. \n",
        "             In 2021, Athens' urban area hosted more than three and a half million people, which is around 35% of the entire population of Greece.\n",
        "             Athens is a Beta global city according to the Globalization and World Cities Research Network, and is one of the biggest economic centers in Southeastern Europe. \n",
        "             It also has a large financial sector, and its port Piraeus is both the largest passenger port in Europe, and the second largest in the world.\"\"\"\n",
        "\n",
        "questions = [\"Which is the largest city in Greece?\",\n",
        "             \"For what was the Athens center?\",\n",
        "             \"Which city was the home of Plato's Academy?\"]\n",
        "\n",
        "answers = [\"Athens\", \"center for the arts, learning and philosophy\", \"Athens\"]\n",
        "\n",
        "for question, answer in zip(questions, answers):\n",
        "  question_answer(context, question, answer)\n",
        "     "
      ]
    },
    {
      "cell_type": "code",
      "execution_count": 39,
      "id": "48e0f968-a992-4b51-bd88-30b86bf928d9",
      "metadata": {
        "colab": {
          "base_uri": "https://localhost:8080/"
        },
        "id": "48e0f968-a992-4b51-bd88-30b86bf928d9",
        "outputId": "4b1bc819-2546-408b-b012-9af26c7a440a"
      },
      "outputs": [
        {
          "output_type": "stream",
          "name": "stdout",
          "text": [
            "Question: When did Angelos born?\n",
            "Prediction: half cypriot\n",
            "True Answer: 8 April 2001\n",
            "Exact match: False\n",
            "F1 score: 0\n",
            "\n",
            "Question: In what university is Angelos studying now?\n",
            "Prediction: half cypriot\n",
            "True Answer: University of Athens\n",
            "Exact match: False\n",
            "F1 score: 0\n",
            "\n",
            "Question: What is Angelos' nationality?\n",
            "Prediction: half cypriot\n",
            "True Answer: half Cypriot and half Greek\n",
            "Exact match: False\n",
            "F1 score: 0.57\n",
            "\n",
            "Question: What are his scientific interests?\n",
            "Prediction: half cypriot\n",
            "True Answer: Artificial Intelligence\n",
            "Exact match: False\n",
            "F1 score: 0\n",
            "\n",
            "Question: What I will do right now?\n",
            "Prediction: half cypriot\n",
            "True Answer: stop talking about me\n",
            "Exact match: False\n",
            "F1 score: 0\n",
            "\n"
          ]
        }
      ],
      "source": [
        "context = \"\"\"Angelos Poulis was born on 8 April 2001 in Nicosia, Cyprus. He is half Cypriot and half Greek. \n",
        "            He is currently studying at the Department of Informatics and Telecommunications of the University of Athens in Greece. \n",
        "            His scientific interests are in the broad field of Artificial Intelligence and he loves to train neural networks! \n",
        "            Okay, I'm Angelos and I'll stop talking about me right now.\"\"\"\n",
        "\n",
        "questions = [\"When did Angelos born?\",\n",
        "             \"In what university is Angelos studying now?\",\n",
        "             \"What is Angelos' nationality?\",\n",
        "             \"What are his scientific interests?\",\n",
        "             \"What I will do right now?\"]\n",
        "\n",
        "answers = [\"8 April 2001\", \"University of Athens\", \n",
        "           \"half Cypriot and half Greek\", \"Artificial Intelligence\", \n",
        "           \"stop talking about me\"]\n",
        "\n",
        "for question, answer in zip(questions, answers):\n",
        "  question_answer(context, question, answer)"
      ]
    },
    {
      "cell_type": "code",
      "execution_count": null,
      "id": "d8d11675-cb5a-493c-be69-5a2c5b16b9f1",
      "metadata": {
        "id": "d8d11675-cb5a-493c-be69-5a2c5b16b9f1"
      },
      "outputs": [],
      "source": []
    },
    {
      "cell_type": "code",
      "execution_count": null,
      "id": "f8ad5acf-8d41-46c6-b603-f53e0abd4a17",
      "metadata": {
        "id": "f8ad5acf-8d41-46c6-b603-f53e0abd4a17"
      },
      "outputs": [],
      "source": []
    },
    {
      "cell_type": "code",
      "execution_count": null,
      "id": "41c254fa",
      "metadata": {
        "id": "41c254fa"
      },
      "outputs": [],
      "source": []
    }
  ],
  "metadata": {
    "kernelspec": {
      "display_name": "Python 3 (ipykernel)",
      "language": "python",
      "name": "python3"
    },
    "language_info": {
      "codemirror_mode": {
        "name": "ipython",
        "version": 3
      },
      "file_extension": ".py",
      "mimetype": "text/x-python",
      "name": "python",
      "nbconvert_exporter": "python",
      "pygments_lexer": "ipython3",
      "version": "3.9.7"
    },
    "colab": {
      "provenance": [],
      "toc_visible": true
    },
    "accelerator": "GPU",
    "gpuClass": "standard",
    "widgets": {
      "application/vnd.jupyter.widget-state+json": {
        "22259a0812f1487e924b23dd7cbbba9a": {
          "model_module": "@jupyter-widgets/controls",
          "model_name": "HBoxModel",
          "model_module_version": "1.5.0",
          "state": {
            "_dom_classes": [],
            "_model_module": "@jupyter-widgets/controls",
            "_model_module_version": "1.5.0",
            "_model_name": "HBoxModel",
            "_view_count": null,
            "_view_module": "@jupyter-widgets/controls",
            "_view_module_version": "1.5.0",
            "_view_name": "HBoxView",
            "box_style": "",
            "children": [
              "IPY_MODEL_fecbcaeeb5774bf4b71c73f3e9f5a752",
              "IPY_MODEL_e93047cf60e64785a545e830cf681d78",
              "IPY_MODEL_6bd33644e3554efda1860bd8a8c462b9"
            ],
            "layout": "IPY_MODEL_1522b0f60e5044969d49fd0b06f1eacb"
          }
        },
        "fecbcaeeb5774bf4b71c73f3e9f5a752": {
          "model_module": "@jupyter-widgets/controls",
          "model_name": "HTMLModel",
          "model_module_version": "1.5.0",
          "state": {
            "_dom_classes": [],
            "_model_module": "@jupyter-widgets/controls",
            "_model_module_version": "1.5.0",
            "_model_name": "HTMLModel",
            "_view_count": null,
            "_view_module": "@jupyter-widgets/controls",
            "_view_module_version": "1.5.0",
            "_view_name": "HTMLView",
            "description": "",
            "description_tooltip": null,
            "layout": "IPY_MODEL_12f832279d7747ab808a78f33b17a2ee",
            "placeholder": "​",
            "style": "IPY_MODEL_a107d60ec75f4a4193e3188d7a63b808",
            "value": "Downloading (…)okenizer_config.json: 100%"
          }
        },
        "e93047cf60e64785a545e830cf681d78": {
          "model_module": "@jupyter-widgets/controls",
          "model_name": "FloatProgressModel",
          "model_module_version": "1.5.0",
          "state": {
            "_dom_classes": [],
            "_model_module": "@jupyter-widgets/controls",
            "_model_module_version": "1.5.0",
            "_model_name": "FloatProgressModel",
            "_view_count": null,
            "_view_module": "@jupyter-widgets/controls",
            "_view_module_version": "1.5.0",
            "_view_name": "ProgressView",
            "bar_style": "success",
            "description": "",
            "description_tooltip": null,
            "layout": "IPY_MODEL_02ea283a9e5a487ab9acbe1ca2035ee9",
            "max": 28,
            "min": 0,
            "orientation": "horizontal",
            "style": "IPY_MODEL_a405c326f0664b62941bd0de50a9c76e",
            "value": 28
          }
        },
        "6bd33644e3554efda1860bd8a8c462b9": {
          "model_module": "@jupyter-widgets/controls",
          "model_name": "HTMLModel",
          "model_module_version": "1.5.0",
          "state": {
            "_dom_classes": [],
            "_model_module": "@jupyter-widgets/controls",
            "_model_module_version": "1.5.0",
            "_model_name": "HTMLModel",
            "_view_count": null,
            "_view_module": "@jupyter-widgets/controls",
            "_view_module_version": "1.5.0",
            "_view_name": "HTMLView",
            "description": "",
            "description_tooltip": null,
            "layout": "IPY_MODEL_f5eff6bdd91044368ad3513634453813",
            "placeholder": "​",
            "style": "IPY_MODEL_78c49425090a4519ab0492e415e386ff",
            "value": " 28.0/28.0 [00:00&lt;00:00, 927B/s]"
          }
        },
        "1522b0f60e5044969d49fd0b06f1eacb": {
          "model_module": "@jupyter-widgets/base",
          "model_name": "LayoutModel",
          "model_module_version": "1.2.0",
          "state": {
            "_model_module": "@jupyter-widgets/base",
            "_model_module_version": "1.2.0",
            "_model_name": "LayoutModel",
            "_view_count": null,
            "_view_module": "@jupyter-widgets/base",
            "_view_module_version": "1.2.0",
            "_view_name": "LayoutView",
            "align_content": null,
            "align_items": null,
            "align_self": null,
            "border": null,
            "bottom": null,
            "display": null,
            "flex": null,
            "flex_flow": null,
            "grid_area": null,
            "grid_auto_columns": null,
            "grid_auto_flow": null,
            "grid_auto_rows": null,
            "grid_column": null,
            "grid_gap": null,
            "grid_row": null,
            "grid_template_areas": null,
            "grid_template_columns": null,
            "grid_template_rows": null,
            "height": null,
            "justify_content": null,
            "justify_items": null,
            "left": null,
            "margin": null,
            "max_height": null,
            "max_width": null,
            "min_height": null,
            "min_width": null,
            "object_fit": null,
            "object_position": null,
            "order": null,
            "overflow": null,
            "overflow_x": null,
            "overflow_y": null,
            "padding": null,
            "right": null,
            "top": null,
            "visibility": null,
            "width": null
          }
        },
        "12f832279d7747ab808a78f33b17a2ee": {
          "model_module": "@jupyter-widgets/base",
          "model_name": "LayoutModel",
          "model_module_version": "1.2.0",
          "state": {
            "_model_module": "@jupyter-widgets/base",
            "_model_module_version": "1.2.0",
            "_model_name": "LayoutModel",
            "_view_count": null,
            "_view_module": "@jupyter-widgets/base",
            "_view_module_version": "1.2.0",
            "_view_name": "LayoutView",
            "align_content": null,
            "align_items": null,
            "align_self": null,
            "border": null,
            "bottom": null,
            "display": null,
            "flex": null,
            "flex_flow": null,
            "grid_area": null,
            "grid_auto_columns": null,
            "grid_auto_flow": null,
            "grid_auto_rows": null,
            "grid_column": null,
            "grid_gap": null,
            "grid_row": null,
            "grid_template_areas": null,
            "grid_template_columns": null,
            "grid_template_rows": null,
            "height": null,
            "justify_content": null,
            "justify_items": null,
            "left": null,
            "margin": null,
            "max_height": null,
            "max_width": null,
            "min_height": null,
            "min_width": null,
            "object_fit": null,
            "object_position": null,
            "order": null,
            "overflow": null,
            "overflow_x": null,
            "overflow_y": null,
            "padding": null,
            "right": null,
            "top": null,
            "visibility": null,
            "width": null
          }
        },
        "a107d60ec75f4a4193e3188d7a63b808": {
          "model_module": "@jupyter-widgets/controls",
          "model_name": "DescriptionStyleModel",
          "model_module_version": "1.5.0",
          "state": {
            "_model_module": "@jupyter-widgets/controls",
            "_model_module_version": "1.5.0",
            "_model_name": "DescriptionStyleModel",
            "_view_count": null,
            "_view_module": "@jupyter-widgets/base",
            "_view_module_version": "1.2.0",
            "_view_name": "StyleView",
            "description_width": ""
          }
        },
        "02ea283a9e5a487ab9acbe1ca2035ee9": {
          "model_module": "@jupyter-widgets/base",
          "model_name": "LayoutModel",
          "model_module_version": "1.2.0",
          "state": {
            "_model_module": "@jupyter-widgets/base",
            "_model_module_version": "1.2.0",
            "_model_name": "LayoutModel",
            "_view_count": null,
            "_view_module": "@jupyter-widgets/base",
            "_view_module_version": "1.2.0",
            "_view_name": "LayoutView",
            "align_content": null,
            "align_items": null,
            "align_self": null,
            "border": null,
            "bottom": null,
            "display": null,
            "flex": null,
            "flex_flow": null,
            "grid_area": null,
            "grid_auto_columns": null,
            "grid_auto_flow": null,
            "grid_auto_rows": null,
            "grid_column": null,
            "grid_gap": null,
            "grid_row": null,
            "grid_template_areas": null,
            "grid_template_columns": null,
            "grid_template_rows": null,
            "height": null,
            "justify_content": null,
            "justify_items": null,
            "left": null,
            "margin": null,
            "max_height": null,
            "max_width": null,
            "min_height": null,
            "min_width": null,
            "object_fit": null,
            "object_position": null,
            "order": null,
            "overflow": null,
            "overflow_x": null,
            "overflow_y": null,
            "padding": null,
            "right": null,
            "top": null,
            "visibility": null,
            "width": null
          }
        },
        "a405c326f0664b62941bd0de50a9c76e": {
          "model_module": "@jupyter-widgets/controls",
          "model_name": "ProgressStyleModel",
          "model_module_version": "1.5.0",
          "state": {
            "_model_module": "@jupyter-widgets/controls",
            "_model_module_version": "1.5.0",
            "_model_name": "ProgressStyleModel",
            "_view_count": null,
            "_view_module": "@jupyter-widgets/base",
            "_view_module_version": "1.2.0",
            "_view_name": "StyleView",
            "bar_color": null,
            "description_width": ""
          }
        },
        "f5eff6bdd91044368ad3513634453813": {
          "model_module": "@jupyter-widgets/base",
          "model_name": "LayoutModel",
          "model_module_version": "1.2.0",
          "state": {
            "_model_module": "@jupyter-widgets/base",
            "_model_module_version": "1.2.0",
            "_model_name": "LayoutModel",
            "_view_count": null,
            "_view_module": "@jupyter-widgets/base",
            "_view_module_version": "1.2.0",
            "_view_name": "LayoutView",
            "align_content": null,
            "align_items": null,
            "align_self": null,
            "border": null,
            "bottom": null,
            "display": null,
            "flex": null,
            "flex_flow": null,
            "grid_area": null,
            "grid_auto_columns": null,
            "grid_auto_flow": null,
            "grid_auto_rows": null,
            "grid_column": null,
            "grid_gap": null,
            "grid_row": null,
            "grid_template_areas": null,
            "grid_template_columns": null,
            "grid_template_rows": null,
            "height": null,
            "justify_content": null,
            "justify_items": null,
            "left": null,
            "margin": null,
            "max_height": null,
            "max_width": null,
            "min_height": null,
            "min_width": null,
            "object_fit": null,
            "object_position": null,
            "order": null,
            "overflow": null,
            "overflow_x": null,
            "overflow_y": null,
            "padding": null,
            "right": null,
            "top": null,
            "visibility": null,
            "width": null
          }
        },
        "78c49425090a4519ab0492e415e386ff": {
          "model_module": "@jupyter-widgets/controls",
          "model_name": "DescriptionStyleModel",
          "model_module_version": "1.5.0",
          "state": {
            "_model_module": "@jupyter-widgets/controls",
            "_model_module_version": "1.5.0",
            "_model_name": "DescriptionStyleModel",
            "_view_count": null,
            "_view_module": "@jupyter-widgets/base",
            "_view_module_version": "1.2.0",
            "_view_name": "StyleView",
            "description_width": ""
          }
        },
        "279208cdc0324957b828c297faf3c6ae": {
          "model_module": "@jupyter-widgets/controls",
          "model_name": "HBoxModel",
          "model_module_version": "1.5.0",
          "state": {
            "_dom_classes": [],
            "_model_module": "@jupyter-widgets/controls",
            "_model_module_version": "1.5.0",
            "_model_name": "HBoxModel",
            "_view_count": null,
            "_view_module": "@jupyter-widgets/controls",
            "_view_module_version": "1.5.0",
            "_view_name": "HBoxView",
            "box_style": "",
            "children": [
              "IPY_MODEL_e1bbd0c6eca340d7bf86386179fd0691",
              "IPY_MODEL_4e79647fc9de4f97b935b1d31dd4fbde",
              "IPY_MODEL_c09928e1925648cca0e6025ddb7b72c7"
            ],
            "layout": "IPY_MODEL_ec8dfaa6668c41af83cabe2d0d65f6aa"
          }
        },
        "e1bbd0c6eca340d7bf86386179fd0691": {
          "model_module": "@jupyter-widgets/controls",
          "model_name": "HTMLModel",
          "model_module_version": "1.5.0",
          "state": {
            "_dom_classes": [],
            "_model_module": "@jupyter-widgets/controls",
            "_model_module_version": "1.5.0",
            "_model_name": "HTMLModel",
            "_view_count": null,
            "_view_module": "@jupyter-widgets/controls",
            "_view_module_version": "1.5.0",
            "_view_name": "HTMLView",
            "description": "",
            "description_tooltip": null,
            "layout": "IPY_MODEL_2d13f349c9c0436393f1d304b035a5f3",
            "placeholder": "​",
            "style": "IPY_MODEL_bed242eb3ec748f6860696a9d4b616dd",
            "value": "Downloading (…)solve/main/vocab.txt: 100%"
          }
        },
        "4e79647fc9de4f97b935b1d31dd4fbde": {
          "model_module": "@jupyter-widgets/controls",
          "model_name": "FloatProgressModel",
          "model_module_version": "1.5.0",
          "state": {
            "_dom_classes": [],
            "_model_module": "@jupyter-widgets/controls",
            "_model_module_version": "1.5.0",
            "_model_name": "FloatProgressModel",
            "_view_count": null,
            "_view_module": "@jupyter-widgets/controls",
            "_view_module_version": "1.5.0",
            "_view_name": "ProgressView",
            "bar_style": "success",
            "description": "",
            "description_tooltip": null,
            "layout": "IPY_MODEL_6dba76fa10184d2ea9b64f438a2b81ca",
            "max": 231508,
            "min": 0,
            "orientation": "horizontal",
            "style": "IPY_MODEL_355dd585edff4f12a7d9f2b439f4f4e8",
            "value": 231508
          }
        },
        "c09928e1925648cca0e6025ddb7b72c7": {
          "model_module": "@jupyter-widgets/controls",
          "model_name": "HTMLModel",
          "model_module_version": "1.5.0",
          "state": {
            "_dom_classes": [],
            "_model_module": "@jupyter-widgets/controls",
            "_model_module_version": "1.5.0",
            "_model_name": "HTMLModel",
            "_view_count": null,
            "_view_module": "@jupyter-widgets/controls",
            "_view_module_version": "1.5.0",
            "_view_name": "HTMLView",
            "description": "",
            "description_tooltip": null,
            "layout": "IPY_MODEL_90afea447066431889efe48ba2674ea8",
            "placeholder": "​",
            "style": "IPY_MODEL_7ed13abda89d44b7be701b1799bf43f4",
            "value": " 232k/232k [00:00&lt;00:00, 1.15MB/s]"
          }
        },
        "ec8dfaa6668c41af83cabe2d0d65f6aa": {
          "model_module": "@jupyter-widgets/base",
          "model_name": "LayoutModel",
          "model_module_version": "1.2.0",
          "state": {
            "_model_module": "@jupyter-widgets/base",
            "_model_module_version": "1.2.0",
            "_model_name": "LayoutModel",
            "_view_count": null,
            "_view_module": "@jupyter-widgets/base",
            "_view_module_version": "1.2.0",
            "_view_name": "LayoutView",
            "align_content": null,
            "align_items": null,
            "align_self": null,
            "border": null,
            "bottom": null,
            "display": null,
            "flex": null,
            "flex_flow": null,
            "grid_area": null,
            "grid_auto_columns": null,
            "grid_auto_flow": null,
            "grid_auto_rows": null,
            "grid_column": null,
            "grid_gap": null,
            "grid_row": null,
            "grid_template_areas": null,
            "grid_template_columns": null,
            "grid_template_rows": null,
            "height": null,
            "justify_content": null,
            "justify_items": null,
            "left": null,
            "margin": null,
            "max_height": null,
            "max_width": null,
            "min_height": null,
            "min_width": null,
            "object_fit": null,
            "object_position": null,
            "order": null,
            "overflow": null,
            "overflow_x": null,
            "overflow_y": null,
            "padding": null,
            "right": null,
            "top": null,
            "visibility": null,
            "width": null
          }
        },
        "2d13f349c9c0436393f1d304b035a5f3": {
          "model_module": "@jupyter-widgets/base",
          "model_name": "LayoutModel",
          "model_module_version": "1.2.0",
          "state": {
            "_model_module": "@jupyter-widgets/base",
            "_model_module_version": "1.2.0",
            "_model_name": "LayoutModel",
            "_view_count": null,
            "_view_module": "@jupyter-widgets/base",
            "_view_module_version": "1.2.0",
            "_view_name": "LayoutView",
            "align_content": null,
            "align_items": null,
            "align_self": null,
            "border": null,
            "bottom": null,
            "display": null,
            "flex": null,
            "flex_flow": null,
            "grid_area": null,
            "grid_auto_columns": null,
            "grid_auto_flow": null,
            "grid_auto_rows": null,
            "grid_column": null,
            "grid_gap": null,
            "grid_row": null,
            "grid_template_areas": null,
            "grid_template_columns": null,
            "grid_template_rows": null,
            "height": null,
            "justify_content": null,
            "justify_items": null,
            "left": null,
            "margin": null,
            "max_height": null,
            "max_width": null,
            "min_height": null,
            "min_width": null,
            "object_fit": null,
            "object_position": null,
            "order": null,
            "overflow": null,
            "overflow_x": null,
            "overflow_y": null,
            "padding": null,
            "right": null,
            "top": null,
            "visibility": null,
            "width": null
          }
        },
        "bed242eb3ec748f6860696a9d4b616dd": {
          "model_module": "@jupyter-widgets/controls",
          "model_name": "DescriptionStyleModel",
          "model_module_version": "1.5.0",
          "state": {
            "_model_module": "@jupyter-widgets/controls",
            "_model_module_version": "1.5.0",
            "_model_name": "DescriptionStyleModel",
            "_view_count": null,
            "_view_module": "@jupyter-widgets/base",
            "_view_module_version": "1.2.0",
            "_view_name": "StyleView",
            "description_width": ""
          }
        },
        "6dba76fa10184d2ea9b64f438a2b81ca": {
          "model_module": "@jupyter-widgets/base",
          "model_name": "LayoutModel",
          "model_module_version": "1.2.0",
          "state": {
            "_model_module": "@jupyter-widgets/base",
            "_model_module_version": "1.2.0",
            "_model_name": "LayoutModel",
            "_view_count": null,
            "_view_module": "@jupyter-widgets/base",
            "_view_module_version": "1.2.0",
            "_view_name": "LayoutView",
            "align_content": null,
            "align_items": null,
            "align_self": null,
            "border": null,
            "bottom": null,
            "display": null,
            "flex": null,
            "flex_flow": null,
            "grid_area": null,
            "grid_auto_columns": null,
            "grid_auto_flow": null,
            "grid_auto_rows": null,
            "grid_column": null,
            "grid_gap": null,
            "grid_row": null,
            "grid_template_areas": null,
            "grid_template_columns": null,
            "grid_template_rows": null,
            "height": null,
            "justify_content": null,
            "justify_items": null,
            "left": null,
            "margin": null,
            "max_height": null,
            "max_width": null,
            "min_height": null,
            "min_width": null,
            "object_fit": null,
            "object_position": null,
            "order": null,
            "overflow": null,
            "overflow_x": null,
            "overflow_y": null,
            "padding": null,
            "right": null,
            "top": null,
            "visibility": null,
            "width": null
          }
        },
        "355dd585edff4f12a7d9f2b439f4f4e8": {
          "model_module": "@jupyter-widgets/controls",
          "model_name": "ProgressStyleModel",
          "model_module_version": "1.5.0",
          "state": {
            "_model_module": "@jupyter-widgets/controls",
            "_model_module_version": "1.5.0",
            "_model_name": "ProgressStyleModel",
            "_view_count": null,
            "_view_module": "@jupyter-widgets/base",
            "_view_module_version": "1.2.0",
            "_view_name": "StyleView",
            "bar_color": null,
            "description_width": ""
          }
        },
        "90afea447066431889efe48ba2674ea8": {
          "model_module": "@jupyter-widgets/base",
          "model_name": "LayoutModel",
          "model_module_version": "1.2.0",
          "state": {
            "_model_module": "@jupyter-widgets/base",
            "_model_module_version": "1.2.0",
            "_model_name": "LayoutModel",
            "_view_count": null,
            "_view_module": "@jupyter-widgets/base",
            "_view_module_version": "1.2.0",
            "_view_name": "LayoutView",
            "align_content": null,
            "align_items": null,
            "align_self": null,
            "border": null,
            "bottom": null,
            "display": null,
            "flex": null,
            "flex_flow": null,
            "grid_area": null,
            "grid_auto_columns": null,
            "grid_auto_flow": null,
            "grid_auto_rows": null,
            "grid_column": null,
            "grid_gap": null,
            "grid_row": null,
            "grid_template_areas": null,
            "grid_template_columns": null,
            "grid_template_rows": null,
            "height": null,
            "justify_content": null,
            "justify_items": null,
            "left": null,
            "margin": null,
            "max_height": null,
            "max_width": null,
            "min_height": null,
            "min_width": null,
            "object_fit": null,
            "object_position": null,
            "order": null,
            "overflow": null,
            "overflow_x": null,
            "overflow_y": null,
            "padding": null,
            "right": null,
            "top": null,
            "visibility": null,
            "width": null
          }
        },
        "7ed13abda89d44b7be701b1799bf43f4": {
          "model_module": "@jupyter-widgets/controls",
          "model_name": "DescriptionStyleModel",
          "model_module_version": "1.5.0",
          "state": {
            "_model_module": "@jupyter-widgets/controls",
            "_model_module_version": "1.5.0",
            "_model_name": "DescriptionStyleModel",
            "_view_count": null,
            "_view_module": "@jupyter-widgets/base",
            "_view_module_version": "1.2.0",
            "_view_name": "StyleView",
            "description_width": ""
          }
        },
        "f151e6584fdc49d2aced7af374f5bb9b": {
          "model_module": "@jupyter-widgets/controls",
          "model_name": "HBoxModel",
          "model_module_version": "1.5.0",
          "state": {
            "_dom_classes": [],
            "_model_module": "@jupyter-widgets/controls",
            "_model_module_version": "1.5.0",
            "_model_name": "HBoxModel",
            "_view_count": null,
            "_view_module": "@jupyter-widgets/controls",
            "_view_module_version": "1.5.0",
            "_view_name": "HBoxView",
            "box_style": "",
            "children": [
              "IPY_MODEL_ced8236850854fd686e8b2b178b6325c",
              "IPY_MODEL_33425d4cf1834ad3a062e2704246d778",
              "IPY_MODEL_e1007934caeb4315bb4a7ad7f4e7fb12"
            ],
            "layout": "IPY_MODEL_4200bb2b5b944e55abd70672d424d051"
          }
        },
        "ced8236850854fd686e8b2b178b6325c": {
          "model_module": "@jupyter-widgets/controls",
          "model_name": "HTMLModel",
          "model_module_version": "1.5.0",
          "state": {
            "_dom_classes": [],
            "_model_module": "@jupyter-widgets/controls",
            "_model_module_version": "1.5.0",
            "_model_name": "HTMLModel",
            "_view_count": null,
            "_view_module": "@jupyter-widgets/controls",
            "_view_module_version": "1.5.0",
            "_view_name": "HTMLView",
            "description": "",
            "description_tooltip": null,
            "layout": "IPY_MODEL_ed90cac5a4584c6e802106c62f25b898",
            "placeholder": "​",
            "style": "IPY_MODEL_7e5dcb8a63d14b3082df985339494922",
            "value": "Downloading (…)/main/tokenizer.json: 100%"
          }
        },
        "33425d4cf1834ad3a062e2704246d778": {
          "model_module": "@jupyter-widgets/controls",
          "model_name": "FloatProgressModel",
          "model_module_version": "1.5.0",
          "state": {
            "_dom_classes": [],
            "_model_module": "@jupyter-widgets/controls",
            "_model_module_version": "1.5.0",
            "_model_name": "FloatProgressModel",
            "_view_count": null,
            "_view_module": "@jupyter-widgets/controls",
            "_view_module_version": "1.5.0",
            "_view_name": "ProgressView",
            "bar_style": "success",
            "description": "",
            "description_tooltip": null,
            "layout": "IPY_MODEL_1bda586bf04941aa8aa87530b9e0abb9",
            "max": 466062,
            "min": 0,
            "orientation": "horizontal",
            "style": "IPY_MODEL_fd3f87f7347a40219e9c9b319ec734cf",
            "value": 466062
          }
        },
        "e1007934caeb4315bb4a7ad7f4e7fb12": {
          "model_module": "@jupyter-widgets/controls",
          "model_name": "HTMLModel",
          "model_module_version": "1.5.0",
          "state": {
            "_dom_classes": [],
            "_model_module": "@jupyter-widgets/controls",
            "_model_module_version": "1.5.0",
            "_model_name": "HTMLModel",
            "_view_count": null,
            "_view_module": "@jupyter-widgets/controls",
            "_view_module_version": "1.5.0",
            "_view_name": "HTMLView",
            "description": "",
            "description_tooltip": null,
            "layout": "IPY_MODEL_9bf17ea30194433cb8e7677b855a73e7",
            "placeholder": "​",
            "style": "IPY_MODEL_c23d7263f15a41e4831b94cffb7d4b88",
            "value": " 466k/466k [00:00&lt;00:00, 1.75MB/s]"
          }
        },
        "4200bb2b5b944e55abd70672d424d051": {
          "model_module": "@jupyter-widgets/base",
          "model_name": "LayoutModel",
          "model_module_version": "1.2.0",
          "state": {
            "_model_module": "@jupyter-widgets/base",
            "_model_module_version": "1.2.0",
            "_model_name": "LayoutModel",
            "_view_count": null,
            "_view_module": "@jupyter-widgets/base",
            "_view_module_version": "1.2.0",
            "_view_name": "LayoutView",
            "align_content": null,
            "align_items": null,
            "align_self": null,
            "border": null,
            "bottom": null,
            "display": null,
            "flex": null,
            "flex_flow": null,
            "grid_area": null,
            "grid_auto_columns": null,
            "grid_auto_flow": null,
            "grid_auto_rows": null,
            "grid_column": null,
            "grid_gap": null,
            "grid_row": null,
            "grid_template_areas": null,
            "grid_template_columns": null,
            "grid_template_rows": null,
            "height": null,
            "justify_content": null,
            "justify_items": null,
            "left": null,
            "margin": null,
            "max_height": null,
            "max_width": null,
            "min_height": null,
            "min_width": null,
            "object_fit": null,
            "object_position": null,
            "order": null,
            "overflow": null,
            "overflow_x": null,
            "overflow_y": null,
            "padding": null,
            "right": null,
            "top": null,
            "visibility": null,
            "width": null
          }
        },
        "ed90cac5a4584c6e802106c62f25b898": {
          "model_module": "@jupyter-widgets/base",
          "model_name": "LayoutModel",
          "model_module_version": "1.2.0",
          "state": {
            "_model_module": "@jupyter-widgets/base",
            "_model_module_version": "1.2.0",
            "_model_name": "LayoutModel",
            "_view_count": null,
            "_view_module": "@jupyter-widgets/base",
            "_view_module_version": "1.2.0",
            "_view_name": "LayoutView",
            "align_content": null,
            "align_items": null,
            "align_self": null,
            "border": null,
            "bottom": null,
            "display": null,
            "flex": null,
            "flex_flow": null,
            "grid_area": null,
            "grid_auto_columns": null,
            "grid_auto_flow": null,
            "grid_auto_rows": null,
            "grid_column": null,
            "grid_gap": null,
            "grid_row": null,
            "grid_template_areas": null,
            "grid_template_columns": null,
            "grid_template_rows": null,
            "height": null,
            "justify_content": null,
            "justify_items": null,
            "left": null,
            "margin": null,
            "max_height": null,
            "max_width": null,
            "min_height": null,
            "min_width": null,
            "object_fit": null,
            "object_position": null,
            "order": null,
            "overflow": null,
            "overflow_x": null,
            "overflow_y": null,
            "padding": null,
            "right": null,
            "top": null,
            "visibility": null,
            "width": null
          }
        },
        "7e5dcb8a63d14b3082df985339494922": {
          "model_module": "@jupyter-widgets/controls",
          "model_name": "DescriptionStyleModel",
          "model_module_version": "1.5.0",
          "state": {
            "_model_module": "@jupyter-widgets/controls",
            "_model_module_version": "1.5.0",
            "_model_name": "DescriptionStyleModel",
            "_view_count": null,
            "_view_module": "@jupyter-widgets/base",
            "_view_module_version": "1.2.0",
            "_view_name": "StyleView",
            "description_width": ""
          }
        },
        "1bda586bf04941aa8aa87530b9e0abb9": {
          "model_module": "@jupyter-widgets/base",
          "model_name": "LayoutModel",
          "model_module_version": "1.2.0",
          "state": {
            "_model_module": "@jupyter-widgets/base",
            "_model_module_version": "1.2.0",
            "_model_name": "LayoutModel",
            "_view_count": null,
            "_view_module": "@jupyter-widgets/base",
            "_view_module_version": "1.2.0",
            "_view_name": "LayoutView",
            "align_content": null,
            "align_items": null,
            "align_self": null,
            "border": null,
            "bottom": null,
            "display": null,
            "flex": null,
            "flex_flow": null,
            "grid_area": null,
            "grid_auto_columns": null,
            "grid_auto_flow": null,
            "grid_auto_rows": null,
            "grid_column": null,
            "grid_gap": null,
            "grid_row": null,
            "grid_template_areas": null,
            "grid_template_columns": null,
            "grid_template_rows": null,
            "height": null,
            "justify_content": null,
            "justify_items": null,
            "left": null,
            "margin": null,
            "max_height": null,
            "max_width": null,
            "min_height": null,
            "min_width": null,
            "object_fit": null,
            "object_position": null,
            "order": null,
            "overflow": null,
            "overflow_x": null,
            "overflow_y": null,
            "padding": null,
            "right": null,
            "top": null,
            "visibility": null,
            "width": null
          }
        },
        "fd3f87f7347a40219e9c9b319ec734cf": {
          "model_module": "@jupyter-widgets/controls",
          "model_name": "ProgressStyleModel",
          "model_module_version": "1.5.0",
          "state": {
            "_model_module": "@jupyter-widgets/controls",
            "_model_module_version": "1.5.0",
            "_model_name": "ProgressStyleModel",
            "_view_count": null,
            "_view_module": "@jupyter-widgets/base",
            "_view_module_version": "1.2.0",
            "_view_name": "StyleView",
            "bar_color": null,
            "description_width": ""
          }
        },
        "9bf17ea30194433cb8e7677b855a73e7": {
          "model_module": "@jupyter-widgets/base",
          "model_name": "LayoutModel",
          "model_module_version": "1.2.0",
          "state": {
            "_model_module": "@jupyter-widgets/base",
            "_model_module_version": "1.2.0",
            "_model_name": "LayoutModel",
            "_view_count": null,
            "_view_module": "@jupyter-widgets/base",
            "_view_module_version": "1.2.0",
            "_view_name": "LayoutView",
            "align_content": null,
            "align_items": null,
            "align_self": null,
            "border": null,
            "bottom": null,
            "display": null,
            "flex": null,
            "flex_flow": null,
            "grid_area": null,
            "grid_auto_columns": null,
            "grid_auto_flow": null,
            "grid_auto_rows": null,
            "grid_column": null,
            "grid_gap": null,
            "grid_row": null,
            "grid_template_areas": null,
            "grid_template_columns": null,
            "grid_template_rows": null,
            "height": null,
            "justify_content": null,
            "justify_items": null,
            "left": null,
            "margin": null,
            "max_height": null,
            "max_width": null,
            "min_height": null,
            "min_width": null,
            "object_fit": null,
            "object_position": null,
            "order": null,
            "overflow": null,
            "overflow_x": null,
            "overflow_y": null,
            "padding": null,
            "right": null,
            "top": null,
            "visibility": null,
            "width": null
          }
        },
        "c23d7263f15a41e4831b94cffb7d4b88": {
          "model_module": "@jupyter-widgets/controls",
          "model_name": "DescriptionStyleModel",
          "model_module_version": "1.5.0",
          "state": {
            "_model_module": "@jupyter-widgets/controls",
            "_model_module_version": "1.5.0",
            "_model_name": "DescriptionStyleModel",
            "_view_count": null,
            "_view_module": "@jupyter-widgets/base",
            "_view_module_version": "1.2.0",
            "_view_name": "StyleView",
            "description_width": ""
          }
        },
        "a239a781c76f4fc49fcf77277ec60400": {
          "model_module": "@jupyter-widgets/controls",
          "model_name": "HBoxModel",
          "model_module_version": "1.5.0",
          "state": {
            "_dom_classes": [],
            "_model_module": "@jupyter-widgets/controls",
            "_model_module_version": "1.5.0",
            "_model_name": "HBoxModel",
            "_view_count": null,
            "_view_module": "@jupyter-widgets/controls",
            "_view_module_version": "1.5.0",
            "_view_name": "HBoxView",
            "box_style": "",
            "children": [
              "IPY_MODEL_21da8250659d47de9067e9d6dfe08bed",
              "IPY_MODEL_8dc9c63c8ff949a6abf1c847e8ad78e1",
              "IPY_MODEL_ca414a8a5d114962be1d32a8d1d858bc"
            ],
            "layout": "IPY_MODEL_4c8c19ed86114e609aec405647017b16"
          }
        },
        "21da8250659d47de9067e9d6dfe08bed": {
          "model_module": "@jupyter-widgets/controls",
          "model_name": "HTMLModel",
          "model_module_version": "1.5.0",
          "state": {
            "_dom_classes": [],
            "_model_module": "@jupyter-widgets/controls",
            "_model_module_version": "1.5.0",
            "_model_name": "HTMLModel",
            "_view_count": null,
            "_view_module": "@jupyter-widgets/controls",
            "_view_module_version": "1.5.0",
            "_view_name": "HTMLView",
            "description": "",
            "description_tooltip": null,
            "layout": "IPY_MODEL_c3c327562afa4e14a2b708241e597d11",
            "placeholder": "​",
            "style": "IPY_MODEL_5b908db571a34e668f67950bf6179a47",
            "value": "Downloading (…)lve/main/config.json: 100%"
          }
        },
        "8dc9c63c8ff949a6abf1c847e8ad78e1": {
          "model_module": "@jupyter-widgets/controls",
          "model_name": "FloatProgressModel",
          "model_module_version": "1.5.0",
          "state": {
            "_dom_classes": [],
            "_model_module": "@jupyter-widgets/controls",
            "_model_module_version": "1.5.0",
            "_model_name": "FloatProgressModel",
            "_view_count": null,
            "_view_module": "@jupyter-widgets/controls",
            "_view_module_version": "1.5.0",
            "_view_name": "ProgressView",
            "bar_style": "success",
            "description": "",
            "description_tooltip": null,
            "layout": "IPY_MODEL_e8dda2edb40240b6a8cc3d87c00ed93a",
            "max": 570,
            "min": 0,
            "orientation": "horizontal",
            "style": "IPY_MODEL_219f6fc8436f40298fe97a64aa37b01b",
            "value": 570
          }
        },
        "ca414a8a5d114962be1d32a8d1d858bc": {
          "model_module": "@jupyter-widgets/controls",
          "model_name": "HTMLModel",
          "model_module_version": "1.5.0",
          "state": {
            "_dom_classes": [],
            "_model_module": "@jupyter-widgets/controls",
            "_model_module_version": "1.5.0",
            "_model_name": "HTMLModel",
            "_view_count": null,
            "_view_module": "@jupyter-widgets/controls",
            "_view_module_version": "1.5.0",
            "_view_name": "HTMLView",
            "description": "",
            "description_tooltip": null,
            "layout": "IPY_MODEL_157816b7d23c469583bd178062e33ac3",
            "placeholder": "​",
            "style": "IPY_MODEL_1ddc4c9772474c83ba310a79f371f0c0",
            "value": " 570/570 [00:00&lt;00:00, 24.4kB/s]"
          }
        },
        "4c8c19ed86114e609aec405647017b16": {
          "model_module": "@jupyter-widgets/base",
          "model_name": "LayoutModel",
          "model_module_version": "1.2.0",
          "state": {
            "_model_module": "@jupyter-widgets/base",
            "_model_module_version": "1.2.0",
            "_model_name": "LayoutModel",
            "_view_count": null,
            "_view_module": "@jupyter-widgets/base",
            "_view_module_version": "1.2.0",
            "_view_name": "LayoutView",
            "align_content": null,
            "align_items": null,
            "align_self": null,
            "border": null,
            "bottom": null,
            "display": null,
            "flex": null,
            "flex_flow": null,
            "grid_area": null,
            "grid_auto_columns": null,
            "grid_auto_flow": null,
            "grid_auto_rows": null,
            "grid_column": null,
            "grid_gap": null,
            "grid_row": null,
            "grid_template_areas": null,
            "grid_template_columns": null,
            "grid_template_rows": null,
            "height": null,
            "justify_content": null,
            "justify_items": null,
            "left": null,
            "margin": null,
            "max_height": null,
            "max_width": null,
            "min_height": null,
            "min_width": null,
            "object_fit": null,
            "object_position": null,
            "order": null,
            "overflow": null,
            "overflow_x": null,
            "overflow_y": null,
            "padding": null,
            "right": null,
            "top": null,
            "visibility": null,
            "width": null
          }
        },
        "c3c327562afa4e14a2b708241e597d11": {
          "model_module": "@jupyter-widgets/base",
          "model_name": "LayoutModel",
          "model_module_version": "1.2.0",
          "state": {
            "_model_module": "@jupyter-widgets/base",
            "_model_module_version": "1.2.0",
            "_model_name": "LayoutModel",
            "_view_count": null,
            "_view_module": "@jupyter-widgets/base",
            "_view_module_version": "1.2.0",
            "_view_name": "LayoutView",
            "align_content": null,
            "align_items": null,
            "align_self": null,
            "border": null,
            "bottom": null,
            "display": null,
            "flex": null,
            "flex_flow": null,
            "grid_area": null,
            "grid_auto_columns": null,
            "grid_auto_flow": null,
            "grid_auto_rows": null,
            "grid_column": null,
            "grid_gap": null,
            "grid_row": null,
            "grid_template_areas": null,
            "grid_template_columns": null,
            "grid_template_rows": null,
            "height": null,
            "justify_content": null,
            "justify_items": null,
            "left": null,
            "margin": null,
            "max_height": null,
            "max_width": null,
            "min_height": null,
            "min_width": null,
            "object_fit": null,
            "object_position": null,
            "order": null,
            "overflow": null,
            "overflow_x": null,
            "overflow_y": null,
            "padding": null,
            "right": null,
            "top": null,
            "visibility": null,
            "width": null
          }
        },
        "5b908db571a34e668f67950bf6179a47": {
          "model_module": "@jupyter-widgets/controls",
          "model_name": "DescriptionStyleModel",
          "model_module_version": "1.5.0",
          "state": {
            "_model_module": "@jupyter-widgets/controls",
            "_model_module_version": "1.5.0",
            "_model_name": "DescriptionStyleModel",
            "_view_count": null,
            "_view_module": "@jupyter-widgets/base",
            "_view_module_version": "1.2.0",
            "_view_name": "StyleView",
            "description_width": ""
          }
        },
        "e8dda2edb40240b6a8cc3d87c00ed93a": {
          "model_module": "@jupyter-widgets/base",
          "model_name": "LayoutModel",
          "model_module_version": "1.2.0",
          "state": {
            "_model_module": "@jupyter-widgets/base",
            "_model_module_version": "1.2.0",
            "_model_name": "LayoutModel",
            "_view_count": null,
            "_view_module": "@jupyter-widgets/base",
            "_view_module_version": "1.2.0",
            "_view_name": "LayoutView",
            "align_content": null,
            "align_items": null,
            "align_self": null,
            "border": null,
            "bottom": null,
            "display": null,
            "flex": null,
            "flex_flow": null,
            "grid_area": null,
            "grid_auto_columns": null,
            "grid_auto_flow": null,
            "grid_auto_rows": null,
            "grid_column": null,
            "grid_gap": null,
            "grid_row": null,
            "grid_template_areas": null,
            "grid_template_columns": null,
            "grid_template_rows": null,
            "height": null,
            "justify_content": null,
            "justify_items": null,
            "left": null,
            "margin": null,
            "max_height": null,
            "max_width": null,
            "min_height": null,
            "min_width": null,
            "object_fit": null,
            "object_position": null,
            "order": null,
            "overflow": null,
            "overflow_x": null,
            "overflow_y": null,
            "padding": null,
            "right": null,
            "top": null,
            "visibility": null,
            "width": null
          }
        },
        "219f6fc8436f40298fe97a64aa37b01b": {
          "model_module": "@jupyter-widgets/controls",
          "model_name": "ProgressStyleModel",
          "model_module_version": "1.5.0",
          "state": {
            "_model_module": "@jupyter-widgets/controls",
            "_model_module_version": "1.5.0",
            "_model_name": "ProgressStyleModel",
            "_view_count": null,
            "_view_module": "@jupyter-widgets/base",
            "_view_module_version": "1.2.0",
            "_view_name": "StyleView",
            "bar_color": null,
            "description_width": ""
          }
        },
        "157816b7d23c469583bd178062e33ac3": {
          "model_module": "@jupyter-widgets/base",
          "model_name": "LayoutModel",
          "model_module_version": "1.2.0",
          "state": {
            "_model_module": "@jupyter-widgets/base",
            "_model_module_version": "1.2.0",
            "_model_name": "LayoutModel",
            "_view_count": null,
            "_view_module": "@jupyter-widgets/base",
            "_view_module_version": "1.2.0",
            "_view_name": "LayoutView",
            "align_content": null,
            "align_items": null,
            "align_self": null,
            "border": null,
            "bottom": null,
            "display": null,
            "flex": null,
            "flex_flow": null,
            "grid_area": null,
            "grid_auto_columns": null,
            "grid_auto_flow": null,
            "grid_auto_rows": null,
            "grid_column": null,
            "grid_gap": null,
            "grid_row": null,
            "grid_template_areas": null,
            "grid_template_columns": null,
            "grid_template_rows": null,
            "height": null,
            "justify_content": null,
            "justify_items": null,
            "left": null,
            "margin": null,
            "max_height": null,
            "max_width": null,
            "min_height": null,
            "min_width": null,
            "object_fit": null,
            "object_position": null,
            "order": null,
            "overflow": null,
            "overflow_x": null,
            "overflow_y": null,
            "padding": null,
            "right": null,
            "top": null,
            "visibility": null,
            "width": null
          }
        },
        "1ddc4c9772474c83ba310a79f371f0c0": {
          "model_module": "@jupyter-widgets/controls",
          "model_name": "DescriptionStyleModel",
          "model_module_version": "1.5.0",
          "state": {
            "_model_module": "@jupyter-widgets/controls",
            "_model_module_version": "1.5.0",
            "_model_name": "DescriptionStyleModel",
            "_view_count": null,
            "_view_module": "@jupyter-widgets/base",
            "_view_module_version": "1.2.0",
            "_view_name": "StyleView",
            "description_width": ""
          }
        },
        "975381a03e1640fba97d949973f9c403": {
          "model_module": "@jupyter-widgets/controls",
          "model_name": "HBoxModel",
          "model_module_version": "1.5.0",
          "state": {
            "_dom_classes": [],
            "_model_module": "@jupyter-widgets/controls",
            "_model_module_version": "1.5.0",
            "_model_name": "HBoxModel",
            "_view_count": null,
            "_view_module": "@jupyter-widgets/controls",
            "_view_module_version": "1.5.0",
            "_view_name": "HBoxView",
            "box_style": "",
            "children": [
              "IPY_MODEL_909cb055945a4255850dee8dd457006e",
              "IPY_MODEL_c1f10262e6bd4036908b6667d2e8f903",
              "IPY_MODEL_5d7f62ff67fe4ee5a19da245152b2cd3"
            ],
            "layout": "IPY_MODEL_2f75dc0adedd409eb27ae4de8b250458"
          }
        },
        "909cb055945a4255850dee8dd457006e": {
          "model_module": "@jupyter-widgets/controls",
          "model_name": "HTMLModel",
          "model_module_version": "1.5.0",
          "state": {
            "_dom_classes": [],
            "_model_module": "@jupyter-widgets/controls",
            "_model_module_version": "1.5.0",
            "_model_name": "HTMLModel",
            "_view_count": null,
            "_view_module": "@jupyter-widgets/controls",
            "_view_module_version": "1.5.0",
            "_view_name": "HTMLView",
            "description": "",
            "description_tooltip": null,
            "layout": "IPY_MODEL_722ad8bc5c774f33a7a3ff4bbd80656e",
            "placeholder": "​",
            "style": "IPY_MODEL_dc6516281c684e80812e19400c6814e8",
            "value": "Downloading pytorch_model.bin: 100%"
          }
        },
        "c1f10262e6bd4036908b6667d2e8f903": {
          "model_module": "@jupyter-widgets/controls",
          "model_name": "FloatProgressModel",
          "model_module_version": "1.5.0",
          "state": {
            "_dom_classes": [],
            "_model_module": "@jupyter-widgets/controls",
            "_model_module_version": "1.5.0",
            "_model_name": "FloatProgressModel",
            "_view_count": null,
            "_view_module": "@jupyter-widgets/controls",
            "_view_module_version": "1.5.0",
            "_view_name": "ProgressView",
            "bar_style": "success",
            "description": "",
            "description_tooltip": null,
            "layout": "IPY_MODEL_c4350568c5b6488c8a4b1993d0dd54d1",
            "max": 440473133,
            "min": 0,
            "orientation": "horizontal",
            "style": "IPY_MODEL_3b1e6049f4b24a52b43046f892b52f85",
            "value": 440473133
          }
        },
        "5d7f62ff67fe4ee5a19da245152b2cd3": {
          "model_module": "@jupyter-widgets/controls",
          "model_name": "HTMLModel",
          "model_module_version": "1.5.0",
          "state": {
            "_dom_classes": [],
            "_model_module": "@jupyter-widgets/controls",
            "_model_module_version": "1.5.0",
            "_model_name": "HTMLModel",
            "_view_count": null,
            "_view_module": "@jupyter-widgets/controls",
            "_view_module_version": "1.5.0",
            "_view_name": "HTMLView",
            "description": "",
            "description_tooltip": null,
            "layout": "IPY_MODEL_fe378a73e36f41e28ea150eee493c628",
            "placeholder": "​",
            "style": "IPY_MODEL_346970e6345c4829967c24a396a57681",
            "value": " 440M/440M [00:03&lt;00:00, 126MB/s]"
          }
        },
        "2f75dc0adedd409eb27ae4de8b250458": {
          "model_module": "@jupyter-widgets/base",
          "model_name": "LayoutModel",
          "model_module_version": "1.2.0",
          "state": {
            "_model_module": "@jupyter-widgets/base",
            "_model_module_version": "1.2.0",
            "_model_name": "LayoutModel",
            "_view_count": null,
            "_view_module": "@jupyter-widgets/base",
            "_view_module_version": "1.2.0",
            "_view_name": "LayoutView",
            "align_content": null,
            "align_items": null,
            "align_self": null,
            "border": null,
            "bottom": null,
            "display": null,
            "flex": null,
            "flex_flow": null,
            "grid_area": null,
            "grid_auto_columns": null,
            "grid_auto_flow": null,
            "grid_auto_rows": null,
            "grid_column": null,
            "grid_gap": null,
            "grid_row": null,
            "grid_template_areas": null,
            "grid_template_columns": null,
            "grid_template_rows": null,
            "height": null,
            "justify_content": null,
            "justify_items": null,
            "left": null,
            "margin": null,
            "max_height": null,
            "max_width": null,
            "min_height": null,
            "min_width": null,
            "object_fit": null,
            "object_position": null,
            "order": null,
            "overflow": null,
            "overflow_x": null,
            "overflow_y": null,
            "padding": null,
            "right": null,
            "top": null,
            "visibility": null,
            "width": null
          }
        },
        "722ad8bc5c774f33a7a3ff4bbd80656e": {
          "model_module": "@jupyter-widgets/base",
          "model_name": "LayoutModel",
          "model_module_version": "1.2.0",
          "state": {
            "_model_module": "@jupyter-widgets/base",
            "_model_module_version": "1.2.0",
            "_model_name": "LayoutModel",
            "_view_count": null,
            "_view_module": "@jupyter-widgets/base",
            "_view_module_version": "1.2.0",
            "_view_name": "LayoutView",
            "align_content": null,
            "align_items": null,
            "align_self": null,
            "border": null,
            "bottom": null,
            "display": null,
            "flex": null,
            "flex_flow": null,
            "grid_area": null,
            "grid_auto_columns": null,
            "grid_auto_flow": null,
            "grid_auto_rows": null,
            "grid_column": null,
            "grid_gap": null,
            "grid_row": null,
            "grid_template_areas": null,
            "grid_template_columns": null,
            "grid_template_rows": null,
            "height": null,
            "justify_content": null,
            "justify_items": null,
            "left": null,
            "margin": null,
            "max_height": null,
            "max_width": null,
            "min_height": null,
            "min_width": null,
            "object_fit": null,
            "object_position": null,
            "order": null,
            "overflow": null,
            "overflow_x": null,
            "overflow_y": null,
            "padding": null,
            "right": null,
            "top": null,
            "visibility": null,
            "width": null
          }
        },
        "dc6516281c684e80812e19400c6814e8": {
          "model_module": "@jupyter-widgets/controls",
          "model_name": "DescriptionStyleModel",
          "model_module_version": "1.5.0",
          "state": {
            "_model_module": "@jupyter-widgets/controls",
            "_model_module_version": "1.5.0",
            "_model_name": "DescriptionStyleModel",
            "_view_count": null,
            "_view_module": "@jupyter-widgets/base",
            "_view_module_version": "1.2.0",
            "_view_name": "StyleView",
            "description_width": ""
          }
        },
        "c4350568c5b6488c8a4b1993d0dd54d1": {
          "model_module": "@jupyter-widgets/base",
          "model_name": "LayoutModel",
          "model_module_version": "1.2.0",
          "state": {
            "_model_module": "@jupyter-widgets/base",
            "_model_module_version": "1.2.0",
            "_model_name": "LayoutModel",
            "_view_count": null,
            "_view_module": "@jupyter-widgets/base",
            "_view_module_version": "1.2.0",
            "_view_name": "LayoutView",
            "align_content": null,
            "align_items": null,
            "align_self": null,
            "border": null,
            "bottom": null,
            "display": null,
            "flex": null,
            "flex_flow": null,
            "grid_area": null,
            "grid_auto_columns": null,
            "grid_auto_flow": null,
            "grid_auto_rows": null,
            "grid_column": null,
            "grid_gap": null,
            "grid_row": null,
            "grid_template_areas": null,
            "grid_template_columns": null,
            "grid_template_rows": null,
            "height": null,
            "justify_content": null,
            "justify_items": null,
            "left": null,
            "margin": null,
            "max_height": null,
            "max_width": null,
            "min_height": null,
            "min_width": null,
            "object_fit": null,
            "object_position": null,
            "order": null,
            "overflow": null,
            "overflow_x": null,
            "overflow_y": null,
            "padding": null,
            "right": null,
            "top": null,
            "visibility": null,
            "width": null
          }
        },
        "3b1e6049f4b24a52b43046f892b52f85": {
          "model_module": "@jupyter-widgets/controls",
          "model_name": "ProgressStyleModel",
          "model_module_version": "1.5.0",
          "state": {
            "_model_module": "@jupyter-widgets/controls",
            "_model_module_version": "1.5.0",
            "_model_name": "ProgressStyleModel",
            "_view_count": null,
            "_view_module": "@jupyter-widgets/base",
            "_view_module_version": "1.2.0",
            "_view_name": "StyleView",
            "bar_color": null,
            "description_width": ""
          }
        },
        "fe378a73e36f41e28ea150eee493c628": {
          "model_module": "@jupyter-widgets/base",
          "model_name": "LayoutModel",
          "model_module_version": "1.2.0",
          "state": {
            "_model_module": "@jupyter-widgets/base",
            "_model_module_version": "1.2.0",
            "_model_name": "LayoutModel",
            "_view_count": null,
            "_view_module": "@jupyter-widgets/base",
            "_view_module_version": "1.2.0",
            "_view_name": "LayoutView",
            "align_content": null,
            "align_items": null,
            "align_self": null,
            "border": null,
            "bottom": null,
            "display": null,
            "flex": null,
            "flex_flow": null,
            "grid_area": null,
            "grid_auto_columns": null,
            "grid_auto_flow": null,
            "grid_auto_rows": null,
            "grid_column": null,
            "grid_gap": null,
            "grid_row": null,
            "grid_template_areas": null,
            "grid_template_columns": null,
            "grid_template_rows": null,
            "height": null,
            "justify_content": null,
            "justify_items": null,
            "left": null,
            "margin": null,
            "max_height": null,
            "max_width": null,
            "min_height": null,
            "min_width": null,
            "object_fit": null,
            "object_position": null,
            "order": null,
            "overflow": null,
            "overflow_x": null,
            "overflow_y": null,
            "padding": null,
            "right": null,
            "top": null,
            "visibility": null,
            "width": null
          }
        },
        "346970e6345c4829967c24a396a57681": {
          "model_module": "@jupyter-widgets/controls",
          "model_name": "DescriptionStyleModel",
          "model_module_version": "1.5.0",
          "state": {
            "_model_module": "@jupyter-widgets/controls",
            "_model_module_version": "1.5.0",
            "_model_name": "DescriptionStyleModel",
            "_view_count": null,
            "_view_module": "@jupyter-widgets/base",
            "_view_module_version": "1.2.0",
            "_view_name": "StyleView",
            "description_width": ""
          }
        }
      }
    }
  },
  "nbformat": 4,
  "nbformat_minor": 5
}